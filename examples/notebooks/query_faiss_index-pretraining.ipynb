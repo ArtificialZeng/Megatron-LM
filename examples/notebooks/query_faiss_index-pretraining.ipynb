{
 "cells": [
  {
   "cell_type": "code",
   "execution_count": 1,
   "id": "5c1c76a4",
   "metadata": {},
   "outputs": [],
   "source": [
    "import time\n",
    "import sys\n",
    "sys.path.append(\"/home/boxinw-src/megatron-lm/megatron\")\n",
    "sys.path.append(\"/home/boxinw-src/megatron-lm/\")\n",
    "\n",
    "import h5py\n",
    "import numpy as np\n",
    "from tqdm import tqdm\n",
    "\n",
    "import os, psutil\n",
    "\n",
    "import argparse\n"
   ]
  },
  {
   "cell_type": "code",
   "execution_count": 2,
   "id": "7b9c507f",
   "metadata": {},
   "outputs": [
    {
     "name": "stdout",
     "output_type": "stream",
     "text": [
      "0.07331466674804688\n"
     ]
    }
   ],
   "source": [
    "process = psutil.Process(os.getpid())\n",
    "print(process.memory_info().rss / 1024 / 1024 / 1024)  # in bytes"
   ]
  },
  {
   "cell_type": "code",
   "execution_count": 3,
   "id": "cea243c1",
   "metadata": {},
   "outputs": [
    {
     "ename": "AttributeError",
     "evalue": "module 'faiss' has no attribute 'get_num_gpus'",
     "output_type": "error",
     "traceback": [
      "\u001b[0;31m---------------------------------------------------------------------------\u001b[0m",
      "\u001b[0;31mAttributeError\u001b[0m                            Traceback (most recent call last)",
      "\u001b[0;32m<ipython-input-3-51a56dad92a3>\u001b[0m in \u001b[0;36m<module>\u001b[0;34m\u001b[0m\n\u001b[1;32m      1\u001b[0m \u001b[0;32mimport\u001b[0m \u001b[0mfaiss\u001b[0m                   \u001b[0;31m# make faiss available\u001b[0m\u001b[0;34m\u001b[0m\u001b[0;34m\u001b[0m\u001b[0m\n\u001b[0;32m----> 2\u001b[0;31m \u001b[0mngpus\u001b[0m \u001b[0;34m=\u001b[0m \u001b[0mfaiss\u001b[0m\u001b[0;34m.\u001b[0m\u001b[0mget_num_gpus\u001b[0m\u001b[0;34m(\u001b[0m\u001b[0;34m)\u001b[0m\u001b[0;34m\u001b[0m\u001b[0;34m\u001b[0m\u001b[0m\n\u001b[0m",
      "\u001b[0;31mAttributeError\u001b[0m: module 'faiss' has no attribute 'get_num_gpus'"
     ]
    }
   ],
   "source": [
    "import faiss                   # make faiss available\n",
    "ngpus = faiss.get_num_gpus()"
   ]
  },
  {
   "cell_type": "code",
   "execution_count": 4,
   "id": "441886dd",
   "metadata": {},
   "outputs": [
    {
     "name": "stdout",
     "output_type": "stream",
     "text": [
      "number of GPUs: 16\n"
     ]
    }
   ],
   "source": [
    "print(\"number of GPUs:\", ngpus)\n"
   ]
  },
  {
   "cell_type": "code",
   "execution_count": 5,
   "id": "3f1ddf9e",
   "metadata": {},
   "outputs": [
    {
     "name": "stdout",
     "output_type": "stream",
     "text": [
      "time cost: 572.5671734809875\n"
     ]
    }
   ],
   "source": [
    "data_path = 'pretraining_index_OPQ64_128_IVF4194304_HNSW32_PQ64_16_16.bin'\n",
    "\n",
    "start = time.time()\n",
    "index = faiss.read_index(data_path)\n",
    "end = time.time()\n",
    "\n",
    "print(\"time cost:\", end - start)"
   ]
  },
  {
   "cell_type": "code",
   "execution_count": 6,
   "id": "1fedada6",
   "metadata": {},
   "outputs": [],
   "source": [
    "from faiss import ParameterSpace\n",
    "\n",
    "ParameterSpace().set_index_parameter(index, \"efSearch\", 256)\n",
    "ParameterSpace().set_index_parameter(index, \"nprobe\", 65536)  # potentially larger nprobe?"
   ]
  },
  {
   "cell_type": "code",
   "execution_count": 7,
   "id": "d06e481c",
   "metadata": {},
   "outputs": [
    {
     "name": "stdout",
     "output_type": "stream",
     "text": [
      "time cost: 14.404329538345337\n"
     ]
    }
   ],
   "source": [
    "input_path = '/gpfs/fs1/projects/gpu_adlr/datasets/boxinw/pretrained_data/Wikipedia-shuf/Wikipedia_en_ftfy_id_shuf_text_document.tokens.0000.feat.hdf5'\n",
    "\n",
    "start = time.time()\n",
    "f = h5py.File(input_path, \"r\")\n",
    "features = np.copy(f['feat'])\n",
    "f.close()\n",
    "end = time.time()\n",
    "\n",
    "print(\"time cost:\", end - start)"
   ]
  },
  {
   "cell_type": "code",
   "execution_count": 8,
   "id": "3ee700dc",
   "metadata": {},
   "outputs": [
    {
     "name": "stdout",
     "output_type": "stream",
     "text": [
      "(4074624, 1024)\n"
     ]
    }
   ],
   "source": [
    "print(features.shape)\n"
   ]
  },
  {
   "cell_type": "code",
   "execution_count": null,
   "id": "a814d566",
   "metadata": {},
   "outputs": [],
   "source": []
  },
  {
   "cell_type": "code",
   "execution_count": 9,
   "id": "0b9bf0bb",
   "metadata": {},
   "outputs": [],
   "source": [
    "feature = features[:40746]"
   ]
  },
  {
   "cell_type": "code",
   "execution_count": 10,
   "id": "89cb6dcc",
   "metadata": {},
   "outputs": [
    {
     "name": "stdout",
     "output_type": "stream",
     "text": [
      "[[1335466853 1344065098]\n",
      " [1335466854 1338353227]\n",
      " [1335466855 1335466856]\n",
      " ...\n",
      " [ 897467922 2576169652]\n",
      " [1349281123 1324398266]\n",
      " [1686141679 1358354506]]\n",
      "[[ 1.3314159  4.8101816]\n",
      " [ 2.3709533  4.767527 ]\n",
      " [ 2.4757743  4.67912  ]\n",
      " ...\n",
      " [ 4.972886   5.0007386]\n",
      " [ 4.0512795  4.0792313]\n",
      " [10.425038  10.818621 ]]\n",
      "time cost: 206.52368783950806\n"
     ]
    }
   ],
   "source": [
    "start = time.time()\n",
    "k = 2                                # we want to see 4 nearest neighbors\n",
    "D, I = index.search(feature, k)     # sanity check\n",
    "print(I)\n",
    "print(D)\n",
    "end = time.time()\n",
    "\n",
    "print(\"time cost:\", end - start)"
   ]
  },
  {
   "cell_type": "code",
   "execution_count": 12,
   "id": "febdfeb0",
   "metadata": {},
   "outputs": [
    {
     "name": "stdout",
     "output_type": "stream",
     "text": [
      "[[1335466853 1344065098 1381864259 ... 1322928044  404059385 1318052923]\n",
      " [1335466854 1338353227 1361070531 ... 1357536321 1361323718 1362546185]\n",
      " [1335466855 1335466856 1335466857 ... 1346595726 1327594547 1325934529]\n",
      " ...\n",
      " [ 897467922 2576169652 3109787930 ... 1545270208  910139135 1922323886]\n",
      " [1349281123 1324398266 1334571839 ... 1349019295 1378832907 1339300472]\n",
      " [1686141679 1358354506 1356905531 ... 1329841808 1356247521 1358206592]]\n",
      "[[ 1.3314159  4.8101816  4.849719  ...  5.0900664  5.114468   5.34592  ]\n",
      " [ 2.3709533  4.767527   4.970966  ...  5.314371   5.3506274  5.3780127]\n",
      " [ 2.4757743  4.67912    4.856323  ...  5.319588   5.351542   5.3570805]\n",
      " ...\n",
      " [ 4.972886   5.0007386  5.1257625 ...  5.4280434  5.572723   5.591442 ]\n",
      " [ 4.0512795  4.0792313  4.126018  ...  4.3210793  4.349822   4.44863  ]\n",
      " [10.425038  10.818621  11.25877   ... 11.830033  11.839164  11.9384775]]\n",
      "time cost: 178.35554385185242\n"
     ]
    }
   ],
   "source": [
    "start = time.time()\n",
    "k = 10                                # we want to see 4 nearest neighbors\n",
    "D, I = index.search(feature, k)     # sanity check\n",
    "print(I)\n",
    "print(D)\n",
    "end = time.time()\n",
    "\n",
    "print(\"time cost:\", end - start)"
   ]
  },
  {
   "cell_type": "code",
   "execution_count": 13,
   "id": "a80d36a0",
   "metadata": {},
   "outputs": [
    {
     "name": "stdout",
     "output_type": "stream",
     "text": [
      "[[1335466853 1344065098 1381864259 ... 1327594546 1338822945 1380858621]\n",
      " [1335466854 1338353227 1361070531 ... 1380443164 1328682204 1376009224]\n",
      " [1335466855 1335466856 1335466857 ... 1380858621 1353877500 1362261166]\n",
      " ...\n",
      " [ 897467922 2576169652 3109787930 ... 2510454581 1369129709 3944630352]\n",
      " [1349281123 1324398266 1334571839 ... 1341246863 1356064365 1339427141]\n",
      " [1686141679 1358354506 1356905531 ... 1320227191 1373220521 1339146002]]\n",
      "[[ 1.3314159  4.8101816  4.849719  ...  5.567738   5.616089   5.6630816]\n",
      " [ 2.3709533  4.767527   4.970966  ...  5.8402934  5.867517   5.880939 ]\n",
      " [ 2.4757743  4.67912    4.856323  ...  5.638487   5.6632295  5.739858 ]\n",
      " ...\n",
      " [ 4.972886   5.0007386  5.1257625 ...  5.8862286  5.9124117  5.918078 ]\n",
      " [ 4.0512795  4.0792313  4.126018  ...  4.598728   4.619939   4.628723 ]\n",
      " [10.425038  10.818621  11.25877   ... 12.182884  12.19228   12.193619 ]]\n",
      "time cost: 174.63433742523193\n"
     ]
    }
   ],
   "source": [
    "start = time.time()\n",
    "k = 20                                # we want to see 4 nearest neighbors\n",
    "D, I = index.search(feature, k)     # sanity check\n",
    "print(I)\n",
    "print(D)\n",
    "end = time.time()\n",
    "\n",
    "print(\"time cost:\", end - start)"
   ]
  },
  {
   "cell_type": "code",
   "execution_count": 11,
   "id": "83b0e70e",
   "metadata": {},
   "outputs": [
    {
     "name": "stdout",
     "output_type": "stream",
     "text": [
      "[[1335466853 1344065098 1381864259 ... 1375383932 1325599290 3528679615]\n",
      " [1335466854 1338353227 1361070531 ... 1354708499 1362104966 1323123993]\n",
      " [1335466855 1335466856 1335466857 ... 1359595874  838046148 3516228237]\n",
      " ...\n",
      " [ 897467922 2576169652 3109787930 ... 1564815426 3367733197 3622870990]\n",
      " [1349281123 1324398266 1334571839 ... 1368913217 1334735734 1363600853]\n",
      " [1686141679 1358354506 1356905531 ... 1321201503 4212922217 1363137175]]\n",
      "[[ 1.3314159  4.8101816  4.849719  ...  7.0967736  7.100786   7.101558 ]\n",
      " [ 2.3709533  4.767527   4.970966  ...  7.3665123  7.3671412  7.3713684]\n",
      " [ 2.4757743  4.67912    4.856323  ...  7.0940685  7.0977473  7.097836 ]\n",
      " ...\n",
      " [ 4.972886   5.0007386  5.1257625 ...  6.7238293  6.724666   6.725226 ]\n",
      " [ 4.0512795  4.0792313  4.126018  ...  5.7428036  5.744847   5.749653 ]\n",
      " [10.425038  10.818621  11.25877   ... 13.476592  13.488592  13.514265 ]]\n",
      "time cost: 180.1122260093689\n"
     ]
    }
   ],
   "source": [
    "start = time.time()\n",
    "k = 200                                # we want to see 4 nearest neighbors\n",
    "D, I = index.search(feature, k)     # sanity check\n",
    "print(I)\n",
    "print(D)\n",
    "end = time.time()\n",
    "\n",
    "print(\"time cost:\", end - start)"
   ]
  },
  {
   "cell_type": "code",
   "execution_count": 12,
   "id": "645177c6",
   "metadata": {},
   "outputs": [
    {
     "name": "stdout",
     "output_type": "stream",
     "text": [
      "[[1335466853 1344065098 1381864259 ... 1381724146  937015705 1324020770]\n",
      " [1335466854 1338353227 1361070531 ... 1338602645 1340925617 1365704499]\n",
      " [1335466855 1335466856 1335466857 ... 1339076546 1324020753 1344029892]\n",
      " ...\n",
      " [ 897467922 2576169652 3109787930 ... 3739607710 1351920439 3820561013]\n",
      " [1349281123 1324398266 1334571839 ... 1354789186 1371432701 1378489013]\n",
      " [1686141679 1358354506 1356905531 ... 1359142156 1362900137 3198554715]]\n",
      "[[ 1.3314159  4.8101816  4.849719  ...  9.464272   9.464368   9.464463 ]\n",
      " [ 2.3709533  4.767527   4.970966  ...  9.779315   9.779721   9.781188 ]\n",
      " [ 2.4757743  4.67912    4.856323  ...  9.271653   9.271903   9.272864 ]\n",
      " ...\n",
      " [ 4.972886   5.0007386  5.1257625 ...  8.074588   8.075148   8.075668 ]\n",
      " [ 4.0512795  4.0792313  4.126018  ...  7.968236   7.970854   7.9710336]\n",
      " [10.425038  10.818621  11.25877   ... 15.417514  15.417756  15.418318 ]]\n",
      "time cost: 177.1195511817932\n"
     ]
    }
   ],
   "source": [
    "start = time.time()\n",
    "k = 2000                                # we want to see 4 nearest neighbors\n",
    "D, I = index.search(feature, k)     # sanity check\n",
    "print(I)\n",
    "print(D)\n",
    "end = time.time()\n",
    "\n",
    "print(\"time cost:\", end - start)"
   ]
  },
  {
   "cell_type": "markdown",
   "id": "9bd675e7",
   "metadata": {},
   "source": [
    "## Search for the full features"
   ]
  },
  {
   "cell_type": "code",
   "execution_count": 9,
   "id": "35aaa80c",
   "metadata": {},
   "outputs": [],
   "source": [
    "feature = features[:407460]"
   ]
  },
  {
   "cell_type": "code",
   "execution_count": 10,
   "id": "296ce8a8",
   "metadata": {},
   "outputs": [
    {
     "name": "stdout",
     "output_type": "stream",
     "text": [
      "[[1335466853 1344065098 1381864259 ... 1381724146  937015705 1324020770]\n",
      " [1335466854 1338353227 1361070531 ... 1338602645 1340925617 1365704499]\n",
      " [1335466855 1335466856 1335466857 ... 1339076546 1324020753 1344029892]\n",
      " ...\n",
      " [1338070435 1333011994 1334117224 ... 1346125291 1358547569 1383306463]\n",
      " [1337711432 1343386772 1376442074 ... 1340404078 1370866233 1362234164]\n",
      " [1376442162 1380317422 1326831842 ... 1319703164 1382776830 4373929790]]\n",
      "[[1.3314159 4.8101816 4.849719  ... 9.464272  9.464368  9.464463 ]\n",
      " [2.3709533 4.767527  4.970966  ... 9.779315  9.779721  9.781188 ]\n",
      " [2.4757743 4.67912   4.856323  ... 9.271653  9.271903  9.272864 ]\n",
      " ...\n",
      " [2.3624344 3.05092   3.1213388 ... 5.7416854 5.7419963 5.7423205]\n",
      " [2.9153843 3.2243872 3.4649186 ... 6.250318  6.250673  6.2506847]\n",
      " [3.9846787 4.777871  5.2578726 ... 9.382974  9.383143  9.38435  ]]\n",
      "time cost: 1696.3735303878784\n"
     ]
    }
   ],
   "source": [
    "start = time.time()\n",
    "k = 2000                                # we want to see 4 nearest neighbors\n",
    "D, I = index.search(feature, k)     # sanity check\n",
    "print(I)\n",
    "print(D)\n",
    "end = time.time()\n",
    "\n",
    "print(\"time cost:\", end - start)"
   ]
  },
  {
   "cell_type": "code",
   "execution_count": 11,
   "id": "3ecb2e05",
   "metadata": {},
   "outputs": [],
   "source": [
    "import joblib"
   ]
  },
  {
   "cell_type": "code",
   "execution_count": 13,
   "id": "60769d39",
   "metadata": {},
   "outputs": [],
   "source": [
    "x = joblib.load('order.pkl')"
   ]
  },
  {
   "cell_type": "code",
   "execution_count": 33,
   "id": "6feb4113",
   "metadata": {},
   "outputs": [
    {
     "name": "stdout",
     "output_type": "stream",
     "text": [
      "Books3_ftfy_cleaned_id_shuf\n",
      "rn_dedup_shuf_cleaned_0.7_cleaned_shuf\n",
      "OpenWebText2_ftfy_cleaned_id_shuf\n",
      "StackExchange_ftfy_id_shuf\n",
      "stories_dedup0.7_shuf_cleaned_shuf\n",
      "PubMed_Abstracts_ftfy_id_shuf\n",
      "Wikipedia_en_ftfy_id_shuf\n",
      "Gutenberg_PG-19_ftfy_cleaned_id_cleaned_shuf\n",
      "BookCorpus2_ftfy_cleaned_id_shuf\n",
      "NIH_ExPorter_ftfy_id_shuf\n",
      "CC-2020-50_id_cleaned_shuf\n",
      "Pile-CC_id_cleaned_shuf\n",
      "CC-2021-04_id_cleaned_shuf\n",
      "ArXiv_ftfy_cleaned_id_shuf\n",
      "Github_ftfy_id_shuf\n"
     ]
    }
   ],
   "source": [
    "offset_dict = {}\n",
    "offset = 0\n",
    "\n",
    "for data in x:\n",
    "    offset_dict[data[0][:-26]] = offset\n",
    "    print(data[0][:-26])\n",
    "    with h5py.File(data[0], \"r\") as f:\n",
    "        offset += len(f['chunks'])"
   ]
  },
  {
   "cell_type": "code",
   "execution_count": 35,
   "id": "50ad563e",
   "metadata": {},
   "outputs": [
    {
     "data": {
      "text/plain": [
       "{'Books3_ftfy_cleaned_id_shuf': 0,\n",
       " 'rn_dedup_shuf_cleaned_0.7_cleaned_shuf': 393262503,\n",
       " 'OpenWebText2_ftfy_cleaned_id_shuf': 742721270,\n",
       " 'StackExchange_ftfy_id_shuf': 976632233,\n",
       " 'stories_dedup0.7_shuf_cleaned_shuf': 1161539157,\n",
       " 'PubMed_Abstracts_ftfy_id_shuf': 1242369844,\n",
       " 'Wikipedia_en_ftfy_id_shuf': 1317366217,\n",
       " 'Gutenberg_PG-19_ftfy_cleaned_id_cleaned_shuf': 1383997021,\n",
       " 'BookCorpus2_ftfy_cleaned_id_shuf': 1424811327,\n",
       " 'NIH_ExPorter_ftfy_id_shuf': 1448390166,\n",
       " 'CC-2020-50_id_cleaned_shuf': 1453625626,\n",
       " 'Pile-CC_id_cleaned_shuf': 2542325217,\n",
       " 'CC-2021-04_id_cleaned_shuf': 3328832748,\n",
       " 'ArXiv_ftfy_cleaned_id_shuf': 4638515069,\n",
       " 'Github_ftfy_id_shuf': 4957650202}"
      ]
     },
     "execution_count": 35,
     "metadata": {},
     "output_type": "execute_result"
    }
   ],
   "source": [
    "offset_dict"
   ]
  },
  {
   "cell_type": "code",
   "execution_count": 34,
   "id": "33fcb00e",
   "metadata": {},
   "outputs": [
    {
     "data": {
      "text/plain": [
       "['offset_dict.pkl']"
      ]
     },
     "execution_count": 34,
     "metadata": {},
     "output_type": "execute_result"
    }
   ],
   "source": [
    "joblib.dump(offset_dict, 'offset_dict.pkl')"
   ]
  },
  {
   "cell_type": "code",
   "execution_count": 11,
   "id": "d81b123e",
   "metadata": {},
   "outputs": [
    {
     "name": "stdout",
     "output_type": "stream",
     "text": [
      "[[62266347 20303550  1745174 ... 40950489 62339080 31828088]\n",
      " [20303550 39125951 40950489 ... 62339080 38588580 15447837]\n",
      " [20303550  1745174 39125951 ...  9334423 18528054 16748728]\n",
      " ...\n",
      " [31828088 27093283 22120375 ... 57218540 44183648 37273546]\n",
      " [31828088 27093283  4505045 ... 44183648 37273546 28488904]\n",
      " [13788211 11217483 37273546 ... 20303550  3994002 31828088]]\n",
      "[[207.53688 208.81802 211.51538 ... 213.64128 214.6185  217.52325]\n",
      " [184.92316 193.34473 194.96954 ... 197.93991 198.66647 199.72974]\n",
      " [178.20432 180.7522  182.91786 ... 187.12524 187.12524 187.12524]\n",
      " ...\n",
      " [182.35732 182.36682 183.87283 ... 185.88074 185.88074 185.88074]\n",
      " [180.05756 182.2111  182.55023 ... 189.24548 189.24548 189.24548]\n",
      " [167.90437 167.90437 167.90437 ... 168.34467 168.8721  170.76395]]\n",
      "time cost: 623.9999520778656\n"
     ]
    }
   ],
   "source": [
    "start = time.time()\n",
    "k = 20                                # we want to see 4 nearest neighbors\n",
    "D, I = index.search(feature, k)     # sanity check\n",
    "print(I)\n",
    "print(D)\n",
    "end = time.time()\n",
    "\n",
    "print(\"time cost:\", end - start)"
   ]
  },
  {
   "cell_type": "code",
   "execution_count": 14,
   "id": "2b9e4afd",
   "metadata": {},
   "outputs": [
    {
     "data": {
      "text/plain": [
       "(40746, 20)"
      ]
     },
     "execution_count": 14,
     "metadata": {},
     "output_type": "execute_result"
    }
   ],
   "source": [
    "I.shape"
   ]
  },
  {
   "cell_type": "code",
   "execution_count": 16,
   "id": "f0aad0bd",
   "metadata": {},
   "outputs": [],
   "source": [
    "start = time.time()\n",
    "f = h5py.File('/gpfs/fs1/projects/gpu_adlr/datasets/boxinw/pretrained_data/Wikipedia-shuf/Wikipedia_en_ftfy_id_shuf_text_document.tokens.h5py', \"r\")\n",
    "tokens = f['tokens']\n",
    "# f.close()\n",
    "end = time.time()"
   ]
  },
  {
   "cell_type": "code",
   "execution_count": 17,
   "id": "0bda79d3",
   "metadata": {},
   "outputs": [
    {
     "data": {
      "text/plain": [
       "(2037312, 2048)"
      ]
     },
     "execution_count": 17,
     "metadata": {},
     "output_type": "execute_result"
    }
   ],
   "source": [
    "tokens.shape"
   ]
  },
  {
   "cell_type": "code",
   "execution_count": 18,
   "id": "5b5ff8e2",
   "metadata": {},
   "outputs": [
    {
     "data": {
      "text/plain": [
       "array([27594,   870,   309,    13,    40,  1539,  6960,   449,  1453,\n",
       "        7357,  1222,   509,   589,   352,     8,   784,   513,    25,\n",
       "        3559,   198,     1,  5756,   338,  1514,     1,   357, 27594,\n",
       "         870,  1815, 12523,  1222, 16342,  5966,     8,   357, 11547,\n",
       "         771,   416,  4403,    70,   360,  1222,  5395,   449,   684,\n",
       "         259,     8,   784,   513,    25,  3510,   198,     1,    38,\n",
       "         648, 38031, 32020,   259, 29653,   784,   513,    25,  2231,\n",
       "         198], dtype=uint16)"
      ]
     },
     "execution_count": 18,
     "metadata": {},
     "output_type": "execute_result"
    }
   ],
   "source": [
    "tokens[0][:64]"
   ]
  },
  {
   "cell_type": "code",
   "execution_count": 19,
   "id": "a33ad636",
   "metadata": {},
   "outputs": [],
   "source": [
    "import sys\n",
    "sys.path.append(\"/home/boxinw-src/megatron-lm/megatron\")\n",
    "sys.path.append(\"/home/boxinw-src/megatron-lm/\")"
   ]
  },
  {
   "cell_type": "code",
   "execution_count": 36,
   "id": "1eede331",
   "metadata": {},
   "outputs": [],
   "source": [
    "from megatron.tokenizer import build_tokenizer\n",
    "from megatron.data import indexed_dataset\n",
    "\n",
    "from megatron.data.indexed_dataset import make_dataset as make_indexed_dataset\n"
   ]
  },
  {
   "cell_type": "code",
   "execution_count": 37,
   "id": "0d00ef49",
   "metadata": {},
   "outputs": [],
   "source": [
    "import argparse\n",
    "\n",
    "def get_args():\n",
    "    parser = argparse.ArgumentParser()\n",
    "    group = parser.add_argument_group(title='input data')\n",
    "    group.add_argument('--input', type=str, required=False,\n",
    "                       help='Path to input JSON')\n",
    "    group.add_argument('--json-keys', nargs='+', default=['text'],\n",
    "                       help='space separate listed of keys to extract from json')\n",
    "    group.add_argument('--split-sentences', action='store_true',\n",
    "                       help='Split documents into sentences.')\n",
    "    group.add_argument('--keep-newlines', action='store_true',\n",
    "                       help='Keep newlines between sentences when splitting.')\n",
    "\n",
    "    group = parser.add_argument_group(title='tokenizer')\n",
    "    group.add_argument('--tokenizer-type', type=str, required=False,\n",
    "                       choices=['BertWordPieceLowerCase','BertWordPieceCase',\n",
    "                                'GPT2BPETokenizer'],\n",
    "                       help='What type of tokenizer to use.')\n",
    "    group.add_argument('--vocab-file', type=str, default=None,\n",
    "                       help='Path to the vocab file')\n",
    "    group.add_argument('--merge-file', type=str, default=None,\n",
    "                       help='Path to the BPE merge file (if necessary).')\n",
    "    group.add_argument('--append-eod', action='store_true',\n",
    "                       help='Append an <eod> token to the end of a document.')\n",
    "\n",
    "\n",
    "    group = parser.add_argument_group(title='output data')\n",
    "    group.add_argument('--output-prefix', type=str, required=False,\n",
    "                       help='Path to binary output file without suffix')\n",
    "    group.add_argument('--dataset-impl', type=str, default='mmap',\n",
    "                       choices=['lazy', 'cached', 'mmap'])\n",
    "\n",
    "    group = parser.add_argument_group(title='runtime')\n",
    "    group.add_argument('--workers', type=int, default=1,\n",
    "                       help='Number of worker processes to launch')\n",
    "    group.add_argument('--log-interval', type=int, default=100,\n",
    "                       help='Interval between progress updates')\n",
    "    group.add_argument('-f', type=str, default='',\n",
    "                   help='Make jupyter happy')\n",
    "    args = parser.parse_args()\n",
    "    args.keep_empty = False\n",
    "\n",
    "#     if args.tokenizer_type.lower().startswith('bert'):\n",
    "#         if not args.split_sentences:\n",
    "#             print(\"Bert tokenizer detected, are you sure you don't want to split sentences?\")\n",
    "\n",
    "    # some default/dummy values for the tokenizer\n",
    "    args.rank = 0\n",
    "    args.make_vocab_size_divisible_by = 128\n",
    "    args.tensor_model_parallel_size = 1\n",
    "    args.vocab_extra_ids = 0\n",
    "\n",
    "    return args\n",
    "\n",
    "args = get_args()"
   ]
  },
  {
   "cell_type": "code",
   "execution_count": 38,
   "id": "060cd7f0",
   "metadata": {},
   "outputs": [
    {
     "name": "stdout",
     "output_type": "stream",
     "text": [
      "> building GPT2BPETokenizer tokenizer ...\n",
      " > padded vocab (size: 50257) with 47 dummy tokens (new size: 50304)\n"
     ]
    }
   ],
   "source": [
    "args.tokenizer_type = \"GPT2BPETokenizer\"\n",
    "args.vocab_file = \"/home/boxinw-src/megatron-lm//gpt2-vocab.json\"\n",
    "args.merge_file = \"/home/boxinw-src/megatron-lm/gpt2-merges.txt\"\n",
    "\n",
    "tokenizer = build_tokenizer(args)"
   ]
  },
  {
   "cell_type": "code",
   "execution_count": 40,
   "id": "b63852df",
   "metadata": {},
   "outputs": [],
   "source": [
    "start = time.time()\n",
    "f = h5py.File('/gpfs/fs1/projects/gpu_adlr/datasets/boxinw/pretrained_data/Wikipedia-shuf/Wikipedia_en_ftfy_id_shuf_text_document.tokens.h5py', \"r\")\n",
    "tokens = f['tokens']\n",
    "# f.close()\n",
    "end = time.time()"
   ]
  },
  {
   "cell_type": "code",
   "execution_count": 41,
   "id": "2f51a3e2",
   "metadata": {},
   "outputs": [],
   "source": [
    "sample3 = tokenizer.detokenize(tokens[0][64:128])"
   ]
  },
  {
   "cell_type": "code",
   "execution_count": 42,
   "id": "48fd678a",
   "metadata": {},
   "outputs": [
    {
     "data": {
      "text/plain": [
       "'\"These Are the Daze\" – 3:44\\n\"I Wanna Sang\" – 4:36\\n\"The Children\\'s Song\" (Produced by Gorilla Tek) – 3:58\\n\"U Neva Know\" – 4:19\\n\"Sugar (Gimme Some)\" (feat'"
      ]
     },
     "execution_count": 42,
     "metadata": {},
     "output_type": "execute_result"
    }
   ],
   "source": [
    "sample3"
   ]
  },
  {
   "cell_type": "code",
   "execution_count": 43,
   "id": "8053ca85",
   "metadata": {},
   "outputs": [
    {
     "data": {
      "text/plain": [
       "array([1335466854, 1338353227, 1361070531, ..., 1338602645, 1340925617,\n",
       "       1365704499])"
      ]
     },
     "execution_count": 43,
     "metadata": {},
     "output_type": "execute_result"
    }
   ],
   "source": [
    "I[1]"
   ]
  },
  {
   "cell_type": "code",
   "execution_count": 45,
   "id": "4d780e39",
   "metadata": {},
   "outputs": [],
   "source": [
    "start = time.time()\n",
    "f2 = h5py.File('/gpfs/fs1/projects/gpu_adlr/datasets/boxinw/processed_data/chunks/pretraining_corpus.chunks.hdf5', \"r\")\n",
    "database = f2['chunks']\n",
    "# f.close()\n",
    "end = time.time()"
   ]
  },
  {
   "cell_type": "code",
   "execution_count": 46,
   "id": "beed24d6",
   "metadata": {},
   "outputs": [],
   "source": [
    "neighbor1 = tokenizer.detokenize(database[1335466854])"
   ]
  },
  {
   "cell_type": "code",
   "execution_count": 47,
   "id": "2dd6c174",
   "metadata": {},
   "outputs": [
    {
     "data": {
      "text/plain": [
       "'\"Gangsta Livin\\'\" – 3:45\\n\"These Are the Daze\" – 3:44\\n\"I Wanna Sang\" – 4:36\\n\"The Children\\'s Song\" (Produced by Gorilla Tek) – 3:58\\n\"U Neva Know\" – 4:19'"
      ]
     },
     "execution_count": 47,
     "metadata": {},
     "output_type": "execute_result"
    }
   ],
   "source": [
    "neighbor1"
   ]
  },
  {
   "cell_type": "code",
   "execution_count": 48,
   "id": "99ab4f9c",
   "metadata": {},
   "outputs": [],
   "source": [
    "neighbor2 = tokenizer.detokenize(database[1338353227])"
   ]
  },
  {
   "cell_type": "code",
   "execution_count": 49,
   "id": "4f31c166",
   "metadata": {},
   "outputs": [
    {
     "data": {
      "text/plain": [
       "'\" – 2:01\\n\"Azzville\" – 3:13\\n\"September Love\" – 4:06\\n\"Bad Girl\" – 2:58\\n\"Sergeant Louise\" – 3:54\\n\"U Make Me Say\" (Heya Remix) (Featuring Ja Rule) – 3:'"
      ]
     },
     "execution_count": 49,
     "metadata": {},
     "output_type": "execute_result"
    }
   ],
   "source": [
    "neighbor2"
   ]
  },
  {
   "cell_type": "code",
   "execution_count": 51,
   "id": "aa13d57c",
   "metadata": {},
   "outputs": [],
   "source": [
    "neighbor3 = tokenizer.detokenize(database[1361070531])"
   ]
  },
  {
   "cell_type": "code",
   "execution_count": 52,
   "id": "bd27b591",
   "metadata": {},
   "outputs": [
    {
     "data": {
      "text/plain": [
       "'\" – 3:53\\n\"Put It on You\" – 4:04\\n\"Propa\" – 4:12 (featuring Beenie Man)\\n\"It\\'s All Yours\" – 4:41 (featuring Gina Thompson)\\n\"I Can\\'t Make a Mistake\" – 3:51'"
      ]
     },
     "execution_count": 52,
     "metadata": {},
     "output_type": "execute_result"
    }
   ],
   "source": [
    "neighbor3"
   ]
  },
  {
   "cell_type": "code",
   "execution_count": null,
   "id": "8cea8faf",
   "metadata": {},
   "outputs": [],
   "source": []
  }
 ],
 "metadata": {
  "kernelspec": {
   "display_name": "Python 3 (ipykernel)",
   "language": "python",
   "name": "python3"
  },
  "language_info": {
   "codemirror_mode": {
    "name": "ipython",
    "version": 3
   },
   "file_extension": ".py",
   "mimetype": "text/x-python",
   "name": "python",
   "nbconvert_exporter": "python",
   "pygments_lexer": "ipython3",
   "version": "3.8.12"
  }
 },
 "nbformat": 4,
 "nbformat_minor": 5
}
