{
 "cells": [
  {
   "cell_type": "code",
   "execution_count": 7,
   "metadata": {},
   "outputs": [],
   "source": [
    "gen_true_path='/gpfs/fs1/projects/gpu_adlr/datasets/dasu/prompting/predicted/NQ/GenCTX/generated_context_k10_357m_gc_multisetdpr_queryctx_p0.9.true_list.txt.1'\n",
    "gen_false_path='/gpfs/fs1/projects/gpu_adlr/datasets/dasu/prompting/predicted/NQ/GenCTX/generated_context_k10_357m_gc_multisetdpr_queryctx_p0.9.false_list.txt.1'\n",
    "ret_true_path='/gpfs/fs1/projects/gpu_adlr/datasets/dasu/prompting/predicted/NQ/GenCTX/generated_context_k10_357m_gc_multisetdpr_queryctx_p0.9.retrieval.true_list.txt.1'\n",
    "ret_false_path='/gpfs/fs1/projects/gpu_adlr/datasets/dasu/prompting/predicted/NQ/GenCTX/generated_context_k10_357m_gc_multisetdpr_queryctx_p0.9.retrieval.false_list.txt.1'\n"
   ]
  },
  {
   "cell_type": "code",
   "execution_count": 8,
   "metadata": {},
   "outputs": [],
   "source": [
    "gen_true_list, gen_false_list, ret_true_list, ret_false_list = [], [], [], []\n",
    "\n",
    "with open(gen_true_path, 'r') as f:\n",
    "    for each in f.readlines():\n",
    "        gen_true_list.append(each.strip('\\n'))\n",
    "with open(gen_false_path, 'r') as f:\n",
    "    for each in f.readlines():\n",
    "        gen_false_list.append(each.strip('\\n'))\n",
    "\n",
    "with open(ret_true_path, 'r') as f:\n",
    "    for each in f.readlines():\n",
    "        ret_true_list.append(each.strip('\\n'))\n",
    "\n",
    "with open(ret_false_path, 'r') as f:\n",
    "    for each in f.readlines():\n",
    "        ret_false_list.append(each.strip('\\n'))\n"
   ]
  },
  {
   "cell_type": "code",
   "execution_count": 9,
   "metadata": {},
   "outputs": [],
   "source": [
    "rt_gt_list = []\n",
    "rt_gf_list = []\n",
    "rf_gt_list = []\n",
    "rf_gf_list = []\n",
    "\n",
    "for each in gen_true_list:\n",
    "    if each in ret_true_list:\n",
    "        rt_gt_list.append(each)\n",
    "    else:\n",
    "        rf_gt_list.append(each)\n",
    "\n",
    "for each in gen_false_list:\n",
    "    if each in ret_true_list:\n",
    "        rt_gf_list.append(each)\n",
    "    else:\n",
    "        rf_gf_list.append(each)"
   ]
  },
  {
   "cell_type": "code",
   "execution_count": 10,
   "metadata": {},
   "outputs": [
    {
     "data": {
      "text/plain": [
       "745"
      ]
     },
     "execution_count": 10,
     "metadata": {},
     "output_type": "execute_result"
    }
   ],
   "source": [
    "len(rt_gt_list) "
   ]
  },
  {
   "cell_type": "code",
   "execution_count": 11,
   "metadata": {},
   "outputs": [
    {
     "data": {
      "text/plain": [
       "80"
      ]
     },
     "execution_count": 11,
     "metadata": {},
     "output_type": "execute_result"
    }
   ],
   "source": [
    "len(rf_gt_list)"
   ]
  },
  {
   "cell_type": "code",
   "execution_count": 12,
   "metadata": {},
   "outputs": [
    {
     "data": {
      "text/plain": [
       "397"
      ]
     },
     "execution_count": 12,
     "metadata": {},
     "output_type": "execute_result"
    }
   ],
   "source": [
    "len(rt_gf_list)"
   ]
  },
  {
   "cell_type": "code",
   "execution_count": 13,
   "metadata": {},
   "outputs": [
    {
     "data": {
      "text/plain": [
       "2388"
      ]
     },
     "execution_count": 13,
     "metadata": {},
     "output_type": "execute_result"
    }
   ],
   "source": [
    "len(rf_gf_list)"
   ]
  },
  {
   "cell_type": "code",
   "execution_count": 16,
   "metadata": {},
   "outputs": [],
   "source": [
    "gen_all_path='/gpfs/fs1/projects/gpu_adlr/datasets/dasu/prompting/predicted/NQ/GenCTX/generated_context_k10_357m_gc_multisetdpr_queryctx_p0.9.txt.all.1'\n",
    "\n",
    "rt_gf_path='/gpfs/fs1/projects/gpu_adlr/datasets/dasu/prompting/predicted/NQ/analysi_result/rt_gf.json'\n",
    "rf_gf_path='/gpfs/fs1/projects/gpu_adlr/datasets/dasu/prompting/predicted/NQ/analysi_result/rf_gf.json'\n",
    "rt_gt_path='/gpfs/fs1/projects/gpu_adlr/datasets/dasu/prompting/predicted/NQ/analysi_result/rt_gt.json'\n",
    "rf_gt_path='/gpfs/fs1/projects/gpu_adlr/datasets/dasu/prompting/predicted/NQ/analysi_result/rf_gt.json'\n"
   ]
  },
  {
   "cell_type": "code",
   "execution_count": 17,
   "metadata": {},
   "outputs": [],
   "source": [
    "import json\n",
    "with open(gen_all_path, 'r') as f:\n",
    "    all_data = json.load(f)"
   ]
  },
  {
   "cell_type": "code",
   "execution_count": 18,
   "metadata": {},
   "outputs": [],
   "source": [
    "output_data = []\n",
    "for each in rt_gf_list:\n",
    "    output_data.append(all_data[int(each)])\n",
    "with open(rt_gf_path,'w') as f:\n",
    "    json.dump(output_data, f, indent=4)\n",
    "\n",
    "output_data = []\n",
    "for each in rt_gt_list:\n",
    "    output_data.append(all_data[int(each)])\n",
    "with open(rt_gt_path,'w') as f:\n",
    "    json.dump(output_data, f, indent=4)\n",
    "\n",
    "output_data = []\n",
    "for each in rf_gt_list:\n",
    "    output_data.append(all_data[int(each)])\n",
    "with open(rf_gt_path,'w') as f:\n",
    "    json.dump(output_data, f, indent=4)\n",
    "\n",
    "output_data = []\n",
    "for each in rf_gf_list:\n",
    "    output_data.append(all_data[int(each)])\n",
    "with open(rf_gf_path,'w') as f:\n",
    "    json.dump(output_data, f, indent=4)"
   ]
  },
  {
   "cell_type": "code",
   "execution_count": 1,
   "metadata": {},
   "outputs": [],
   "source": [
    "topk_ctxt_path='/gpfs/fs1/projects/gpu_adlr/datasets/dasu/prompting/predicted/NQ/analysi_result/topk_context_k10_357m_multisetdpr_queryctx_p0.9.json'\n",
    "rt_gf_path='/gpfs/fs1/projects/gpu_adlr/datasets/dasu/prompting/predicted/NQ/analysi_result/rt_gf_topk.json'\n",
    "rf_gf_path='/gpfs/fs1/projects/gpu_adlr/datasets/dasu/prompting/predicted/NQ/analysi_result/rf_gf_topk.json'\n",
    "rt_gt_path='/gpfs/fs1/projects/gpu_adlr/datasets/dasu/prompting/predicted/NQ/analysi_result/rt_gt_topk.json'\n",
    "rf_gt_path='/gpfs/fs1/projects/gpu_adlr/datasets/dasu/prompting/predicted/NQ/analysi_result/rf_gt_topk.json'\n",
    "\n",
    "import json\n",
    "with open(topk_ctxt_path, 'r') as f:\n",
    "    all_data = json.load(f)"
   ]
  },
  {
   "cell_type": "code",
   "execution_count": 20,
   "metadata": {},
   "outputs": [],
   "source": [
    "output_data = []\n",
    "for each in rt_gf_list:\n",
    "    output_data.append(all_data[int(each)])\n",
    "with open(rt_gf_path,'w') as f:\n",
    "    json.dump(output_data, f, indent=4)\n",
    "\n",
    "output_data = []\n",
    "for each in rt_gt_list:\n",
    "    output_data.append(all_data[int(each)])\n",
    "with open(rt_gt_path,'w') as f:\n",
    "    json.dump(output_data, f, indent=4)\n",
    "\n",
    "output_data = []\n",
    "for each in rf_gt_list:\n",
    "    output_data.append(all_data[int(each)])\n",
    "with open(rf_gt_path,'w') as f:\n",
    "    json.dump(output_data, f, indent=4)\n",
    "\n",
    "output_data = []\n",
    "for each in rf_gf_list:\n",
    "    output_data.append(all_data[int(each)])\n",
    "with open(rf_gf_path,'w') as f:\n",
    "    json.dump(output_data, f, indent=4)\n"
   ]
  },
  {
   "cell_type": "code",
   "execution_count": 21,
   "metadata": {},
   "outputs": [
    {
     "data": {
      "text/plain": [
       "74.81012079061132"
      ]
     },
     "execution_count": 21,
     "metadata": {},
     "output_type": "execute_result"
    }
   ],
   "source": [
    "with open(rt_gf_path, 'r') as f:\n",
    "    rt_gf_data =  json.load(f)\n",
    "\n",
    "rt_gf_scores = []\n",
    "for each in rt_gf_data:\n",
    "    score = 0.0\n",
    "    for item in each['topk']:\n",
    "        score += item['score']\n",
    "    rt_gf_scores.append(score/10)\n",
    "\n",
    "sum(rt_gf_scores)/len(rt_gf_scores)"
   ]
  },
  {
   "cell_type": "code",
   "execution_count": 23,
   "metadata": {},
   "outputs": [
    {
     "data": {
      "text/plain": [
       "77.87532804143505"
      ]
     },
     "execution_count": 23,
     "metadata": {},
     "output_type": "execute_result"
    }
   ],
   "source": [
    "with open(rt_gt_path, 'r') as f:\n",
    "    rt_gt_data =  json.load(f)\n",
    "rt_gt_scores = []\n",
    "for each in rt_gt_data:\n",
    "    score = 0.0\n",
    "    for item in each['topk']:\n",
    "        score += item['score']\n",
    "    rt_gt_scores.append(score/10)\n",
    "sum(rt_gt_scores)/len(rt_gt_scores)"
   ]
  },
  {
   "cell_type": "code",
   "execution_count": 24,
   "metadata": {},
   "outputs": [
    {
     "data": {
      "text/plain": [
       "74.48905368130804"
      ]
     },
     "execution_count": 24,
     "metadata": {},
     "output_type": "execute_result"
    }
   ],
   "source": [
    "with open(rf_gf_path, 'r') as f:\n",
    "    rf_gf_data =  json.load(f)\n",
    "rf_gf_scores = []\n",
    "\n",
    "for each in rf_gf_data:\n",
    "    score = 0.0\n",
    "    for item in each['topk']:\n",
    "        score += item['score']\n",
    "    rf_gf_scores.append(score/10)\n",
    "\n",
    "sum(rf_gf_scores)/len(rf_gf_scores)"
   ]
  },
  {
   "cell_type": "code",
   "execution_count": 25,
   "metadata": {},
   "outputs": [
    {
     "data": {
      "text/plain": [
       "78.10259616851806"
      ]
     },
     "execution_count": 25,
     "metadata": {},
     "output_type": "execute_result"
    }
   ],
   "source": [
    "with open(rf_gt_path, 'r') as f:\n",
    "    rf_gt_data =  json.load(f)\n",
    "rf_gt_scores = []\n",
    "\n",
    "for each in rf_gt_data:\n",
    "    score = 0.0\n",
    "    for item in each['topk']:\n",
    "        score += item['score']\n",
    "    rf_gt_scores.append(score/10)\n",
    "\n",
    "sum(rf_gt_scores)/len(rf_gt_scores)"
   ]
  },
  {
   "cell_type": "code",
   "execution_count": null,
   "metadata": {},
   "outputs": [],
   "source": []
  }
 ],
 "metadata": {
  "interpreter": {
   "hash": "31f2aee4e71d21fbe5cf8b01ff0e069b9275f58929596ceb00d14d90e3e16cd6"
  },
  "kernelspec": {
   "display_name": "Python 3.8.5 64-bit",
   "language": "python",
   "name": "python3"
  },
  "language_info": {
   "codemirror_mode": {
    "name": "ipython",
    "version": 3
   },
   "file_extension": ".py",
   "mimetype": "text/x-python",
   "name": "python",
   "nbconvert_exporter": "python",
   "pygments_lexer": "ipython3",
   "version": "3.8.5"
  },
  "orig_nbformat": 4
 },
 "nbformat": 4,
 "nbformat_minor": 2
}
