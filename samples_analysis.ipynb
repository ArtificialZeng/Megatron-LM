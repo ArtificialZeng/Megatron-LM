{
 "cells": [
  {
   "cell_type": "code",
   "execution_count": 28,
   "metadata": {},
   "outputs": [],
   "source": [
    "model_gen_path_list=[]\n",
    "for i in range(1,8):\n",
    "        current_path='/gpfs/fs1/projects/gpu_adlr/datasets/dasu/prompting/predicted/TQA/357m/output_answer_generations_k10_357m_gc_multisetdpr_queryctx_p0.9_all_rnd{}.txt'.format(i)\n",
    "        model_gen_path_list.append(current_path)"
   ]
  },
  {
   "cell_type": "code",
   "execution_count": 6,
   "metadata": {},
   "outputs": [
    {
     "data": {
      "text/plain": [
       "'/gpfs/fs1/projects/gpu_adlr/datasets/dasu/prompting/predicted/TQA/357m/output_answer_generations_k10_357m_gc_multisetdpr_queryctx_p0.9_all_rnd1.txt'"
      ]
     },
     "execution_count": 6,
     "metadata": {},
     "output_type": "execute_result"
    }
   ],
   "source": [
    "model_gen_path_list[0]"
   ]
  },
  {
   "cell_type": "code",
   "execution_count": 2,
   "metadata": {},
   "outputs": [
    {
     "name": "stdout",
     "output_type": "stream",
     "text": [
      "Requirement already satisfied: numpy in /home/dasu/.local/lib/python3.8/site-packages (1.22.3)\n",
      "Note: you may need to restart the kernel to use updated packages.\n"
     ]
    }
   ],
   "source": [
    "pip install numpy"
   ]
  },
  {
   "cell_type": "code",
   "execution_count": 29,
   "metadata": {},
   "outputs": [],
   "source": [
    "answer_list_list=[]\n",
    "from tqdm import tqdm\n",
    "import regex\n",
    "import string\n",
    "import json\n",
    "\n",
    "def normalize_answer(s):\n",
    "    def remove_articles(text):\n",
    "        return regex.sub(r'\\b(a|an|the)\\b', ' ', text)\n",
    "\n",
    "    def white_space_fix(text):\n",
    "        return ' '.join(text.split())\n",
    "\n",
    "    def remove_punc(text):\n",
    "        exclude = set(string.punctuation)\n",
    "        return ''.join(ch for ch in text if ch not in exclude)\n",
    "\n",
    "    def lower(text):\n",
    "        return text.lower()\n",
    "\n",
    "    return white_space_fix(remove_articles(remove_punc(lower(s))))\n",
    "\n",
    "def read_answer_list(prediction_file_list):\n",
    "    prediction_list_list = []\n",
    "    for i, prediction_file in enumerate(prediction_file_list):\n",
    "        prediction_list = []\n",
    "        print('reading %s' % prediction_file)\n",
    "        with open(prediction_file, \"r\") as f:\n",
    "            for i, line in enumerate(tqdm(f)):\n",
    "                line = line.replace(\"Answer:\",\"\")\n",
    "                line = line.replace(\"Answer: \",\"\")\n",
    "                line = line.replace('????  ', \"\")\n",
    "                line = line.replace('A: ',\"\")\n",
    "                line = line.replace(\"A:\", \"\")\n",
    "\n",
    "                line = line.strip()\n",
    "\n",
    "                if \"<|endoftext|>\" in line:\n",
    "                    line = line.replace(\"<|endoftext|>\", \"\")\n",
    "                line = normalize_answer(line) # normalize the answer\n",
    "                prediction_list.append(line)\n",
    "\n",
    "        prediction_list_list.append(prediction_list)\n",
    "    return prediction_list_list\n",
    "\n",
    "def read_ground_truth(ground_truth_file):\n",
    "    ground_truths_list = []\n",
    "    \n",
    "    if ground_truth_file.endswith(('txt', 'lst')):\n",
    "        raw_data = open(ground_truth_file, 'r')\n",
    "    else:\n",
    "        with open(ground_truth_file, 'r') as f:\n",
    "            raw_data = json.load(f)\n",
    "\n",
    "    for each in raw_data:\n",
    "        if ground_truth_file.endswith('txt'):\n",
    "            each = json.loads(each)\n",
    "        \n",
    "        if 'answers' in each:\n",
    "            ground_truths_list.append(each['answers'])\n",
    "        elif 'answer' in each:\n",
    "            ground_truths_list.append(each['answer'])\n",
    "        else:\n",
    "            ground_truths_list.append([each])\n",
    "            \n",
    "    return ground_truths_list\n",
    "\n",
    "def ems(prediction, ground_truths):\n",
    "    return max([exact_match_score(prediction, gt) for gt in ground_truths])\n",
    "\n",
    "def exact_match_score(prediction, ground_truth):\n",
    "    return normalize_answer(prediction) == normalize_answer(ground_truth)\n",
    "\n",
    "def cal_ems(ground_truths_list, prediction_list):\n",
    "    exactmatch_list = []\n",
    "\n",
    "    for i,each in enumerate(prediction_list):\n",
    "        # print(\"=============\")\n",
    "        # print(each)\n",
    "        # print(ground_truths_list[i])\n",
    "        score = ems(each, ground_truths_list[i])\n",
    "        # print(score)\n",
    "        exactmatch_list.append(score)\n",
    "    \n",
    "    return exactmatch_list\n"
   ]
  },
  {
   "cell_type": "code",
   "execution_count": 30,
   "metadata": {},
   "outputs": [
    {
     "name": "stdout",
     "output_type": "stream",
     "text": [
      "reading /gpfs/fs1/projects/gpu_adlr/datasets/dasu/prompting/predicted/TQA/357m/output_answer_generations_k10_357m_gc_multisetdpr_queryctx_p0.9_all_rnd1.txt\n"
     ]
    },
    {
     "name": "stderr",
     "output_type": "stream",
     "text": [
      "11313it [00:00, 49212.82it/s]\n"
     ]
    },
    {
     "name": "stdout",
     "output_type": "stream",
     "text": [
      "reading /gpfs/fs1/projects/gpu_adlr/datasets/dasu/prompting/predicted/TQA/357m/output_answer_generations_k10_357m_gc_multisetdpr_queryctx_p0.9_all_rnd2.txt\n"
     ]
    },
    {
     "name": "stderr",
     "output_type": "stream",
     "text": [
      "11313it [00:00, 62963.82it/s]\n"
     ]
    },
    {
     "name": "stdout",
     "output_type": "stream",
     "text": [
      "reading /gpfs/fs1/projects/gpu_adlr/datasets/dasu/prompting/predicted/TQA/357m/output_answer_generations_k10_357m_gc_multisetdpr_queryctx_p0.9_all_rnd3.txt\n"
     ]
    },
    {
     "name": "stderr",
     "output_type": "stream",
     "text": [
      "11313it [00:00, 70589.88it/s]\n"
     ]
    },
    {
     "name": "stdout",
     "output_type": "stream",
     "text": [
      "reading /gpfs/fs1/projects/gpu_adlr/datasets/dasu/prompting/predicted/TQA/357m/output_answer_generations_k10_357m_gc_multisetdpr_queryctx_p0.9_all_rnd4.txt\n"
     ]
    },
    {
     "name": "stderr",
     "output_type": "stream",
     "text": [
      "11313it [00:00, 70734.57it/s]\n"
     ]
    },
    {
     "name": "stdout",
     "output_type": "stream",
     "text": [
      "reading /gpfs/fs1/projects/gpu_adlr/datasets/dasu/prompting/predicted/TQA/357m/output_answer_generations_k10_357m_gc_multisetdpr_queryctx_p0.9_all_rnd5.txt\n"
     ]
    },
    {
     "name": "stderr",
     "output_type": "stream",
     "text": [
      "11313it [00:00, 70441.59it/s]\n"
     ]
    },
    {
     "name": "stdout",
     "output_type": "stream",
     "text": [
      "reading /gpfs/fs1/projects/gpu_adlr/datasets/dasu/prompting/predicted/TQA/357m/output_answer_generations_k10_357m_gc_multisetdpr_queryctx_p0.9_all_rnd6.txt\n"
     ]
    },
    {
     "name": "stderr",
     "output_type": "stream",
     "text": [
      "11313it [00:00, 69278.80it/s]\n"
     ]
    },
    {
     "name": "stdout",
     "output_type": "stream",
     "text": [
      "reading /gpfs/fs1/projects/gpu_adlr/datasets/dasu/prompting/predicted/TQA/357m/output_answer_generations_k10_357m_gc_multisetdpr_queryctx_p0.9_all_rnd7.txt\n"
     ]
    },
    {
     "name": "stderr",
     "output_type": "stream",
     "text": [
      "11313it [00:00, 70872.76it/s]\n"
     ]
    }
   ],
   "source": [
    "answer_list_list = read_answer_list(model_gen_path_list)"
   ]
  },
  {
   "cell_type": "code",
   "execution_count": 8,
   "metadata": {},
   "outputs": [],
   "source": [
    "ground_truth_file='/gpfs/fs1/projects/gpu_adlr/datasets/dasu/open_domain_data/TQA/test.json'\n",
    "ground_truths_list = read_ground_truth(ground_truth_file)"
   ]
  },
  {
   "cell_type": "code",
   "execution_count": 31,
   "metadata": {},
   "outputs": [
    {
     "data": {
      "text/plain": [
       "'david seville'"
      ]
     },
     "execution_count": 31,
     "metadata": {},
     "output_type": "execute_result"
    }
   ],
   "source": [
    "answer_list_list[0][0]"
   ]
  },
  {
   "cell_type": "code",
   "execution_count": 32,
   "metadata": {},
   "outputs": [],
   "source": [
    "from collections import Counter\n",
    "\n",
    "def marginalize_prediction(prediction_list_list):\n",
    "    \n",
    "    most_predicted_answer_list = []\n",
    "    l = len(prediction_list_list[0])\n",
    "    for j in range(10):\n",
    "        current_list=[]\n",
    "        for i in range(len(prediction_list_list)):\n",
    "            current_list.append(prediction_list_list[i][j])\n",
    "        x = Counter(current_list)\n",
    "        print(\"====\"*10)\n",
    "        print(x)\n",
    "        (most_predicted_answer, _) = x.most_common()[0]\n",
    "        index = current_list.index(most_predicted_answer)\n",
    "        print(index)\n",
    "        most_predicted_answer_list.append(most_predicted_answer)\n",
    "    \n",
    "    return most_predicted_answer_list"
   ]
  },
  {
   "cell_type": "code",
   "execution_count": 33,
   "metadata": {},
   "outputs": [
    {
     "name": "stdout",
     "output_type": "stream",
     "text": [
      "========================================\n",
      "Counter({'david seville': 7})\n",
      "========================================\n",
      "Counter({'taurus': 6, 'virgo': 1})\n",
      "========================================\n",
      "Counter({'music of night': 4, 'music of night stars as mariah carey and norah jones walt disney studios produced featuring guest star debbie harry twohour musical about ageing': 1, 'music of night all i ask of you music': 1, 'dear evan hansen dear evan hansen is musical by andrew lloyd webber production was premiered on 10': 1})\n",
      "========================================\n",
      "Counter({'marquess of salisbury': 3, 'sir henry campbellbannerman': 2, 'lord roberts althorp': 1, 'lord salisbury': 1})\n",
      "========================================\n",
      "Counter({'beatles': 7})\n",
      "========================================\n",
      "Counter({'frank sinatra': 4, 'mirror': 1, 'kathleen ferrier': 1, 'anne oldfield': 1})\n",
      "========================================\n",
      "Counter({'octopussy': 7})\n",
      "========================================\n",
      "Counter({'58': 2, '62': 1, '746 million': 1, '37 million': 1, '449 million': 1, '54 million': 1})\n",
      "========================================\n",
      "Counter({'california': 5, 'new jersey': 1, 'tennessee': 1})\n",
      "========================================\n",
      "Counter({'gloria swanson': 2, 'marilyn monroe marilyn monroe born marilyn monroe june 12 1925 –': 1, 'rita moreno rita moreno born rita louise': 1, 'marilyn monroe marilyn monroe born marilyn monroe june 12 1925 – july 24 2016 was american actress singer and dancer she was film and television star known during her': 1, 'rita moreno': 1, 'dorothy lamour dorothy lamour born dorothy mary kappelhoff april 3 1922 is american actress': 1})\n"
     ]
    }
   ],
   "source": [
    "margin_answer_list = marginalize_prediction(answer_list_list)"
   ]
  },
  {
   "cell_type": "code",
   "execution_count": null,
   "metadata": {},
   "outputs": [],
   "source": [
    "answer_list_list[0]"
   ]
  },
  {
   "cell_type": "code",
   "execution_count": 55,
   "metadata": {},
   "outputs": [],
   "source": [
    "x=Counter({'kathleen ferrier': 13, 'frank sinatra': 9, 'mirror': 1, 'anne oldfield': 1, 'murder': 1, 'savoy ballroom fire': 1, 'derani oliver': 1, 'death': 1, 'linda mccartney': 1, 'sheilah hamilton': 1, 'her brother roger cooper': 1})"
   ]
  },
  {
   "cell_type": "code",
   "execution_count": 58,
   "metadata": {},
   "outputs": [
    {
     "data": {
      "text/plain": [
       "('frank sinatra', 9)"
      ]
     },
     "execution_count": 58,
     "metadata": {},
     "output_type": "execute_result"
    }
   ],
   "source": [
    "x.most_common()[1]"
   ]
  },
  {
   "cell_type": "code",
   "execution_count": null,
   "metadata": {},
   "outputs": [],
   "source": []
  },
  {
   "cell_type": "code",
   "execution_count": 51,
   "metadata": {},
   "outputs": [
    {
     "data": {
      "text/plain": [
       "'sir henry campbellbannerman'"
      ]
     },
     "execution_count": 51,
     "metadata": {},
     "output_type": "execute_result"
    }
   ],
   "source": [
    "margin_answer_list[3]"
   ]
  },
  {
   "cell_type": "code",
   "execution_count": 50,
   "metadata": {},
   "outputs": [
    {
     "data": {
      "text/plain": [
       "['Sir Henry Campbell-Bannerman',\n",
       " 'Campbell-Bannerman',\n",
       " 'Campbell Bannerman',\n",
       " 'Sir Henry Campbell Bannerman',\n",
       " 'Henry Campbell Bannerman',\n",
       " 'Henry Campbell-Bannerman']"
      ]
     },
     "execution_count": 50,
     "metadata": {},
     "output_type": "execute_result"
    }
   ],
   "source": [
    "ground_truths_list[3]"
   ]
  },
  {
   "cell_type": "code",
   "execution_count": 28,
   "metadata": {},
   "outputs": [],
   "source": [
    "def or_prediction(prediction_list_list, ground_truths_list, l):\n",
    "    exactmatch_list_list = []\n",
    "    for prediction in prediction_list_list:\n",
    "        exactmatch_list = cal_ems(ground_truths_list, prediction[:l])\n",
    "        exactmatch_list_list.append(exactmatch_list)\n",
    "\n",
    "    new_exactmatch_list=[]\n",
    "    true_list_list = []\n",
    "    # l=len(exactmatch_list_list[0])\n",
    "    for j in range(l):\n",
    "        sum = 0\n",
    "        true_list=[]\n",
    "        for i in range(len(exactmatch_list_list)):\n",
    "            true_list.append(int(exactmatch_list_list[i][j]))\n",
    "            sum += int(exactmatch_list_list[i][j])\n",
    "        new_exactmatch_list.append(bool(sum))\n",
    "        true_list_list.append(true_list)\n",
    "    \n",
    "    return new_exactmatch_list, true_list_list"
   ]
  },
  {
   "cell_type": "code",
   "execution_count": 37,
   "metadata": {},
   "outputs": [],
   "source": [
    "new_exactmatch_list, true_list_list = or_prediction(answer_list_list, ground_truths_list[:10],10)"
   ]
  },
  {
   "cell_type": "code",
   "execution_count": 54,
   "metadata": {},
   "outputs": [
    {
     "data": {
      "text/plain": [
       "0.0"
      ]
     },
     "execution_count": 54,
     "metadata": {},
     "output_type": "execute_result"
    }
   ],
   "source": [
    "import numpy as np\n",
    "new_score = np.mean(new_exactmatch_list)\n",
    "new_score"
   ]
  },
  {
   "cell_type": "code",
   "execution_count": null,
   "metadata": {},
   "outputs": [],
   "source": []
  },
  {
   "cell_type": "code",
   "execution_count": 52,
   "metadata": {},
   "outputs": [
    {
     "data": {
      "text/plain": [
       "[0,\n",
       " 0,\n",
       " 1,\n",
       " 0,\n",
       " 0,\n",
       " 1,\n",
       " 0,\n",
       " 1,\n",
       " 1,\n",
       " 1,\n",
       " 0,\n",
       " 1,\n",
       " 1,\n",
       " 1,\n",
       " 0,\n",
       " 1,\n",
       " 1,\n",
       " 1,\n",
       " 0,\n",
       " 0,\n",
       " 0,\n",
       " 0,\n",
       " 0,\n",
       " 1,\n",
       " 0,\n",
       " 0,\n",
       " 1,\n",
       " 0,\n",
       " 1,\n",
       " 0,\n",
       " 1]"
      ]
     },
     "execution_count": 52,
     "metadata": {},
     "output_type": "execute_result"
    }
   ],
   "source": [
    "true_list_list[3]\n"
   ]
  },
  {
   "cell_type": "code",
   "execution_count": 39,
   "metadata": {},
   "outputs": [
    {
     "data": {
      "text/plain": [
       "[True, False, False, True, False, False, True, False, False, False]"
      ]
     },
     "execution_count": 39,
     "metadata": {},
     "output_type": "execute_result"
    }
   ],
   "source": [
    "new_exactmatch_list"
   ]
  },
  {
   "cell_type": "code",
   "execution_count": 53,
   "metadata": {},
   "outputs": [],
   "source": [
    "margin_result = cal_ems(ground_truths_list[:10], margin_answer_list)"
   ]
  },
  {
   "cell_type": "code",
   "execution_count": 54,
   "metadata": {},
   "outputs": [
    {
     "data": {
      "text/plain": [
       "[True, False, False, True, False, False, True, False, False, False]"
      ]
     },
     "execution_count": 54,
     "metadata": {},
     "output_type": "execute_result"
    }
   ],
   "source": [
    "margin_result"
   ]
  },
  {
   "cell_type": "code",
   "execution_count": null,
   "metadata": {},
   "outputs": [],
   "source": []
  }
 ],
 "metadata": {
  "interpreter": {
   "hash": "31f2aee4e71d21fbe5cf8b01ff0e069b9275f58929596ceb00d14d90e3e16cd6"
  },
  "kernelspec": {
   "display_name": "Python 3.8.5 64-bit",
   "language": "python",
   "name": "python3"
  },
  "language_info": {
   "codemirror_mode": {
    "name": "ipython",
    "version": 3
   },
   "file_extension": ".py",
   "mimetype": "text/x-python",
   "name": "python",
   "nbconvert_exporter": "python",
   "pygments_lexer": "ipython3",
   "version": "3.8.5"
  },
  "orig_nbformat": 4
 },
 "nbformat": 4,
 "nbformat_minor": 2
}
