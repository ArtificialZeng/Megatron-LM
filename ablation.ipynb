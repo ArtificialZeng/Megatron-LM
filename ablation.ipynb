{
 "cells": [
  {
   "cell_type": "code",
   "execution_count": 61,
   "metadata": {},
   "outputs": [],
   "source": [
    "TOPK_CTX_PATH_orig='/gpfs/fs1/projects/gpu_adlr/datasets/dasu/prompting/predicted/NQ/analysi_result/topk_context_k10_357m_multisetdpr_queryctx_p0.9.json'\n",
    "TOPK_CTX_PATH_rm='/gpfs/fs1/projects/gpu_adlr/datasets/dasu/prompting/predicted/NQ/analysi_result/topk_context_k10_357m_multisetdpr_queryctx_p0.9_rmduplicatectx.json'\n",
    "test_orig='/gpfs/fs1/projects/gpu_adlr/datasets/dasu/open_domain_data/NQ/test.json'"
   ]
  },
  {
   "cell_type": "code",
   "execution_count": 62,
   "metadata": {},
   "outputs": [],
   "source": [
    "import json"
   ]
  },
  {
   "cell_type": "code",
   "execution_count": 63,
   "metadata": {},
   "outputs": [],
   "source": [
    "with open(TOPK_CTX_PATH_orig, 'r') as f:\n",
    "    orig_data =  json.load(f)\n",
    "with open(TOPK_CTX_PATH_rm, 'r') as f:\n",
    "    rm_data =  json.load(f)\n"
   ]
  },
  {
   "cell_type": "code",
   "execution_count": 64,
   "metadata": {},
   "outputs": [],
   "source": [
    "with open(test_orig, 'r') as f:\n",
    "    test_data = json.load(f)\n"
   ]
  },
  {
   "cell_type": "code",
   "execution_count": 14,
   "metadata": {},
   "outputs": [
    {
     "data": {
      "text/plain": [
       "'Nobel Prize in Physics The Nobel Prize in Physics () is a yearly award given by the Royal Swedish Academy of Sciences for those who have made the most outstanding contributions for mankind in the field of physics. It is one of the five Nobel Prizes established by the will of Alfred Nobel in 1895 and awarded since 1901; the others being the Nobel Prize in Chemistry, Nobel Prize in Literature, Nobel Peace Prize, and Nobel Prize in Physiology or Medicine. The first Nobel Prize in Physics was awarded to physicist Wilhelm Röntgen in recognition of the extraordinary services he'"
      ]
     },
     "execution_count": 14,
     "metadata": {},
     "output_type": "execute_result"
    }
   ],
   "source": [
    "test_data[0]['ctxs'][0]['text']"
   ]
  },
  {
   "cell_type": "code",
   "execution_count": 34,
   "metadata": {},
   "outputs": [
    {
     "data": {
      "text/plain": [
       "{'question': 'who got the first nobel prize in physics',\n",
       " 'gen_ctx': \"A: Nicholas Bacon Nicholas Bacon (; 1710–1783) was a British mathematical and medical scientist and physicist, who pioneered a number of new techniques for optical experiments. He was born in Broadbury, where his father was the vice-priest of the St. Paul's Church. His father, Nicholas Bacon, was a great-grandson of Queen Elizabeth I and of Henry VIII's mother, Catherine of Aragon. One of Bacon's great-grandfathers, Francis Bacon (died 1684), was a friar of the 13th century. Bacon also had three older half-brothers, including his\",\n",
       " 'topk': [{'id': 0,\n",
       "   'ctx': {'id': '14302507',\n",
       "    'title': 'Nobel Peace Prize',\n",
       "    'text': 'Nobel Peace Prize The Nobel Peace Prize (Swedish, Norwegian: \")\" is one of the five Nobel Prizes established by the will of Swedish industrialist, inventor, and armaments manufacturer Alfred Nobel, along with the prizes in Chemistry, Physics, Physiology or Medicine, and Literature. Since March 1901, it has been awarded annually (with some exceptions) to those who have \"done the most or the best work for fraternity between nations, for the abolition or reduction of standing armies and for the holding and promotion of peace congresses\". As per Alfred Nobel\\'s will, the recipient is selected by the Norwegian Nobel Committee, a'},\n",
       "   'question': 'who is the nobel peace prize named for',\n",
       "   'score': 71.01795196533203},\n",
       "  {'id': 1,\n",
       "   'ctx': {'id': '14302507',\n",
       "    'title': 'Nobel Peace Prize',\n",
       "    'text': 'Nobel Peace Prize The Nobel Peace Prize (Swedish, Norwegian: \")\" is one of the five Nobel Prizes established by the will of Swedish industrialist, inventor, and armaments manufacturer Alfred Nobel, along with the prizes in Chemistry, Physics, Physiology or Medicine, and Literature. Since March 1901, it has been awarded annually (with some exceptions) to those who have \"done the most or the best work for fraternity between nations, for the abolition or reduction of standing armies and for the holding and promotion of peace congresses\". As per Alfred Nobel\\'s will, the recipient is selected by the Norwegian Nobel Committee, a'},\n",
       "   'question': 'who invented nobel peace prize and for which reasons',\n",
       "   'score': 71.02725219726562},\n",
       "  {'id': 2,\n",
       "   'ctx': {'id': '10443',\n",
       "    'title': 'Atom',\n",
       "    'text': 'theory of atoms was popularized in France by the physician François Bernier (1620–1688) and in England by the natural philosopher Walter Charleton (1619–1707). The chemist Robert Boyle (1627–1691) and the physicist Isaac Newton (1642–1727) both defended atomism and, by the end of the seventeenth century, it had become accepted by portions of the scientific community. In the early 1800s, John Dalton used the concept of atoms to explain why elements always react in ratios of small whole numbers (the law of multiple proportions). For instance, there are two types of tin oxide: one is 88.1% tin and 11.9% oxygen and'},\n",
       "   'question': 'who discovered that atoms combine in whole number ratios',\n",
       "   'score': 71.09847259521484},\n",
       "  {'id': 3,\n",
       "   'ctx': {'id': '2123547',\n",
       "    'title': 'Geiger–Marsden experiment',\n",
       "    'text': \"Geiger–Marsden experiment The Geiger–Marsden experiment(s) (also called the Rutherford gold foil experiment) was a landmark series of experiments by which scientists discovered that every atom contains a nucleus where all of its positive charge and most of its mass are concentrated. They deduced this by measuring how an alpha particle beam is scattered when it strikes a thin metal foil. The experiments were performed between 1908 and 1913 by Hans Geiger and Ernest Marsden under the direction of Ernest Rutherford at the Physical Laboratories of the University of Manchester. The popular theory of atomic structure at the time of Rutherford's\"},\n",
       "   'question': 'who discovered the nucleus by bombarding gold foil',\n",
       "   'score': 71.14120483398438},\n",
       "  {'id': 4,\n",
       "   'ctx': {'id': '284495',\n",
       "    'title': 'Nobel Prize',\n",
       "    'text': 'His son, George Paget Thomson, received the same prize in 1937 for showing that they also have the properties of waves. William Henry Bragg and his son, William Lawrence Bragg, shared the Physics Prize in 1915 for inventing the X-ray spectrometer. Niels Bohr was awarded the Physics prize in 1922, as was his son, Aage Bohr, in 1975. Manne Siegbahn, who received the Physics Prize in 1924, was the father of Kai Siegbahn, who received the Physics Prize in 1981. Hans von Euler-Chelpin, who received the Chemistry Prize in 1929, was the father of Ulf von Euler, who was awarded'},\n",
       "   'question': 'who was awarded nobel prize both for physics and for chemistry',\n",
       "   'score': 71.58419799804688},\n",
       "  {'id': 5,\n",
       "   'ctx': {'id': '10443',\n",
       "    'title': 'Atom',\n",
       "    'text': 'theory of atoms was popularized in France by the physician François Bernier (1620–1688) and in England by the natural philosopher Walter Charleton (1619–1707). The chemist Robert Boyle (1627–1691) and the physicist Isaac Newton (1642–1727) both defended atomism and, by the end of the seventeenth century, it had become accepted by portions of the scientific community. In the early 1800s, John Dalton used the concept of atoms to explain why elements always react in ratios of small whole numbers (the law of multiple proportions). For instance, there are two types of tin oxide: one is 88.1% tin and 11.9% oxygen and'},\n",
       "   'question': 'who was the first one to proposed the idea about atom',\n",
       "   'score': 71.62522888183594},\n",
       "  {'id': 6,\n",
       "   'ctx': {'id': '10443',\n",
       "    'title': 'Atom',\n",
       "    'text': 'theory of atoms was popularized in France by the physician François Bernier (1620–1688) and in England by the natural philosopher Walter Charleton (1619–1707). The chemist Robert Boyle (1627–1691) and the physicist Isaac Newton (1642–1727) both defended atomism and, by the end of the seventeenth century, it had become accepted by portions of the scientific community. In the early 1800s, John Dalton used the concept of atoms to explain why elements always react in ratios of small whole numbers (the law of multiple proportions). For instance, there are two types of tin oxide: one is 88.1% tin and 11.9% oxygen and'},\n",
       "   'question': 'when was the idea of the atom first introduced',\n",
       "   'score': 71.89154052734375},\n",
       "  {'id': 7,\n",
       "   'ctx': {'id': '2123547',\n",
       "    'title': 'Geiger–Marsden experiment',\n",
       "    'text': \"Geiger–Marsden experiment The Geiger–Marsden experiment(s) (also called the Rutherford gold foil experiment) was a landmark series of experiments by which scientists discovered that every atom contains a nucleus where all of its positive charge and most of its mass are concentrated. They deduced this by measuring how an alpha particle beam is scattered when it strikes a thin metal foil. The experiments were performed between 1908 and 1913 by Hans Geiger and Ernest Marsden under the direction of Ernest Rutherford at the Physical Laboratories of the University of Manchester. The popular theory of atomic structure at the time of Rutherford's\"},\n",
       "   'question': 'when did the gold foil experiment take place',\n",
       "   'score': 72.02426147460938},\n",
       "  {'id': 8,\n",
       "   'ctx': {'id': '313183',\n",
       "    'title': 'Proton',\n",
       "    'text': 'number of protons, each element has its own unique atomic number. The word \"proton\" is Greek for \"first\", and this name was given to the hydrogen nucleus by Ernest Rutherford in 1920. In previous years, Rutherford had discovered that the hydrogen nucleus (known to be the lightest nucleus) could be extracted from the nuclei of nitrogen by atomic collisions. Protons were therefore a candidate to be a fundamental particle, and hence a building block of nitrogen and all other heavier atomic nuclei. In the modern Standard Model of particle physics, protons are hadrons, and like neutrons, the other nucleon (particles'},\n",
       "   'question': 'who discovered that the number of protons for each element’s atoms is unique',\n",
       "   'score': 72.0602035522461},\n",
       "  {'id': 9,\n",
       "   'ctx': {'id': '12613257',\n",
       "    'title': 'Atomic nucleus',\n",
       "    'text': 'forces which bind it together, is called nuclear physics. The nucleus was discovered in 1911, as a result of Ernest Rutherford\\'s efforts to test Thomson\\'s \"plum pudding model\" of the atom. The electron had already been discovered earlier by J.J. Thomson himself. Knowing that atoms are electrically neutral, Thomson postulated that there must be a positive charge as well. In his plum pudding model, Thomson suggested that an atom consisted of negative electrons randomly scattered within a sphere of positive charge. Ernest Rutherford later devised an experiment with his research partner Hans Geiger and with help of Ernest Marsden, that'},\n",
       "   'question': 'who is credited with the first idea of a nuclear atom',\n",
       "   'score': 72.3553695678711},\n",
       "  {'id': 10,\n",
       "   'ctx': {'id': '2123547',\n",
       "    'title': 'Geiger–Marsden experiment',\n",
       "    'text': \"Geiger–Marsden experiment The Geiger–Marsden experiment(s) (also called the Rutherford gold foil experiment) was a landmark series of experiments by which scientists discovered that every atom contains a nucleus where all of its positive charge and most of its mass are concentrated. They deduced this by measuring how an alpha particle beam is scattered when it strikes a thin metal foil. The experiments were performed between 1908 and 1913 by Hans Geiger and Ernest Marsden under the direction of Ernest Rutherford at the Physical Laboratories of the University of Manchester. The popular theory of atomic structure at the time of Rutherford's\"},\n",
       "   'question': 'who measured the magnitude of the positive charge on the nucleus',\n",
       "   'score': 72.44462585449219},\n",
       "  {'id': 11,\n",
       "   'ctx': {'id': '2052819',\n",
       "    'title': 'Lawrence Bragg',\n",
       "    'text': 'Lawrence Bragg Sir William Lawrence Bragg, (31 March 1890 – 1 July 1971) was an Australian-born British physicist and X-ray crystallographer, discoverer (1912) of Bragg\\'s law of X-ray diffraction, which is basic for the determination of crystal structure. He was joint winner (with his father, William Henry Bragg) of the Nobel Prize in Physics in 1915: \"\"For their services in the analysis of crystal structure by means of X-ray\"\", an important step in the development of X-ray crystallography. Bragg was knighted in 1941. As of 2018, he is the youngest ever Nobel laureate in physics, having received the award at'},\n",
       "   'question': 'youngest person to receive nobel prize in physics',\n",
       "   'score': 72.75534057617188},\n",
       "  {'id': 12,\n",
       "   'ctx': {'id': '317802',\n",
       "    'title': 'Photoelectric effect',\n",
       "    'text': 'known as the Planck constant. In 1887, Heinrich Hertz discovered that electrodes illuminated with ultraviolet light create electric sparks more easily. In 1900, while studying black-body radiation, the German physicist Max Planck suggested that the energy carried by electromagnetic waves could only be released in \"packets\" of energy. In 1905, Albert Einstein published a paper advancing the hypothesis that light energy is carried in discrete quantized packets to explain experimental data from the photoelectric effect. This model contributed to the development of quantum mechanics. In 1914, Millikan\\'s Experiment supported Einstein\\'s model of the photoelectric effect. Einstein was awarded the Nobel'},\n",
       "   'question': 'who developed an explanation for the photoelectric effect',\n",
       "   'score': 72.79161834716797},\n",
       "  {'id': 13,\n",
       "   'ctx': {'id': '628714',\n",
       "    'title': 'Nobel Prize in Physics',\n",
       "    'text': \"rendered by the discovery of the remarkable rays (or x-rays). This award is administered by the Nobel Foundation and widely regarded as the most prestigious award that a scientist can receive in physics. It is presented in Stockholm at an annual ceremony on 10 December, the anniversary of Nobel's death. Through 2018, a total of 209 individuals have been awarded the prize. Only three women (1.4% of laureates) have won the Nobel Prize in Physics: Marie Curie in 1903, Maria Goeppert Mayer in 1963, and Donna Strickland in 2018. Alfred Nobel, in his last will and testament, stated that his\"},\n",
       "   'question': 'who won the last nobel prize in physics',\n",
       "   'score': 72.96409606933594},\n",
       "  {'id': 14,\n",
       "   'ctx': {'id': '1868557',\n",
       "    'title': 'Gerty Cori',\n",
       "    'text': 'Gerty Cori Gerty Theresa Cori (née Radnitz; August 15, 1896 – October 26, 1957) was a Jewish Austrian-American biochemist who in 1947 was the third woman—and first American woman—to win a Nobel Prize in science, and the first woman to be awarded the Nobel Prize in Physiology or Medicine, for her role in the discovery of glycogen metabolism. Cori was born in Prague (then in the Austro-Hungarian Empire, now the Czech Republic). Gerty was not a nickname, but rather she was named after an Austrian warship. Growing up at a time when women were marginalized in science and allowed few'},\n",
       "   'question': 'who was the first american woman to win a nobel prize',\n",
       "   'score': 74.12759399414062},\n",
       "  {'id': 15,\n",
       "   'ctx': {'id': '14087661',\n",
       "    'title': 'Nobel Prize in Chemistry',\n",
       "    'text': 'on December 10, the anniversary of Nobel\\'s death. The first Nobel Prize in Chemistry was awarded in 1901 to Jacobus Henricus van \\'t Hoff, of the Netherlands, \"for his discovery of the laws of chemical dynamics and osmotic pressure in solutions.\" From 1901 to 2018, the award has been bestowed on a total of 180 individuals. Alfred Nobel stipulated in his last will and testament that his money be used to create a series of prizes for those who confer the \"greatest benefit on mankind\" in physics, chemistry, peace, physiology or medicine, and literature. Though Nobel wrote several wills during'},\n",
       "   'question': 'when is the nobel prize for chemistry awarded',\n",
       "   'score': 75.08153533935547},\n",
       "  {'id': 16,\n",
       "   'ctx': {'id': '11055017',\n",
       "    'title': 'Nobel family',\n",
       "    'text': 'Nobel, the inventor of dynamite who left the major part of his estate to the creation of the Nobel Prizes. The Nobel family originated from the village of Östra Nöbbelöv in Scania, hence the name. The first member was Petrus Olai Nobelius (1655–1707) who married Wendela Rudbeck (1668–1710), daughter of the famous Swedish scientist Olaus Rudbeck the Elder, also known as Olof Rudbeck. Members of the Nobel family are known not only for their interest in art but also for their inventive ability, which is sometimes referred to as a \"Rudbeckian\" trait, inherited from their ancestor Olaus Rudbeck, the elder.'},\n",
       "   'question': 'first mother and daughter to win nobel prize',\n",
       "   'score': 76.51228332519531},\n",
       "  {'id': 17,\n",
       "   'ctx': {'id': '628713',\n",
       "    'title': 'Nobel Prize in Physics',\n",
       "    'text': 'Nobel Prize in Physics The Nobel Prize in Physics () is a yearly award given by the Royal Swedish Academy of Sciences for those who have made the most outstanding contributions for mankind in the field of physics. It is one of the five Nobel Prizes established by the will of Alfred Nobel in 1895 and awarded since 1901; the others being the Nobel Prize in Chemistry, Nobel Prize in Literature, Nobel Peace Prize, and Nobel Prize in Physiology or Medicine. The first Nobel Prize in Physics was awarded to physicist Wilhelm Röntgen in recognition of the extraordinary services he'},\n",
       "   'question': 'who received the first nobel prize in physics',\n",
       "   'score': 76.76734161376953},\n",
       "  {'id': 18,\n",
       "   'ctx': {'id': '628713',\n",
       "    'title': 'Nobel Prize in Physics',\n",
       "    'text': 'Nobel Prize in Physics The Nobel Prize in Physics () is a yearly award given by the Royal Swedish Academy of Sciences for those who have made the most outstanding contributions for mankind in the field of physics. It is one of the five Nobel Prizes established by the will of Alfred Nobel in 1895 and awarded since 1901; the others being the Nobel Prize in Chemistry, Nobel Prize in Literature, Nobel Peace Prize, and Nobel Prize in Physiology or Medicine. The first Nobel Prize in Physics was awarded to physicist Wilhelm Röntgen in recognition of the extraordinary services he'},\n",
       "   'question': 'who won the first nobel prize in physics',\n",
       "   'score': 77.0179672241211},\n",
       "  {'id': 19,\n",
       "   'ctx': {'id': '278928',\n",
       "    'title': 'Marie Curie',\n",
       "    'text': 'named in her honor. Marie Curie Marie Skłodowska Curie (; ; ; born Maria Salomea Skłodowska; 7 November 18674 July 1934) was a Polish and naturalized-French physicist and chemist who conducted pioneering research on radioactivity. She was the first woman to win a Nobel Prize, the first person and only woman to win twice, the only person to win a Nobel Prize in two different sciences, and was part of the Curie family legacy of five Nobel Prizes. She was also the first woman to become a professor at the University of Paris, and in 1995 became the first woman'},\n",
       "   'question': 'only person to win two nobel prizes in two fields',\n",
       "   'score': 77.87638092041016}]}"
      ]
     },
     "execution_count": 34,
     "metadata": {},
     "output_type": "execute_result"
    }
   ],
   "source": [
    "rm_data[0]"
   ]
  },
  {
   "cell_type": "code",
   "execution_count": 65,
   "metadata": {},
   "outputs": [],
   "source": [
    "cnt = 0\n",
    "for test, orig in zip(test_data, orig_data):\n",
    "    golden_question = test['ctxs'][0]['text'] + ' ' + test['question']\n",
    "    for each in orig['topk']:\n",
    "        # if golden == each['ctx']['text']:\n",
    "        if golden_question == each['ctx']['text'] + ' ' + each['question']:\n",
    "\n",
    "    # golden = test['ctxs'][0]['text']\n",
    "    # for each in orig['topk']:\n",
    "    #     if golden == each['ctx']['text']:\n",
    "            # print(\"=====\")\n",
    "            # print(golden)\n",
    "            # print(each)\n",
    "            cnt += 1\n",
    "            break"
   ]
  },
  {
   "cell_type": "code",
   "execution_count": 66,
   "metadata": {},
   "outputs": [
    {
     "data": {
      "text/plain": [
       "0"
      ]
     },
     "execution_count": 66,
     "metadata": {},
     "output_type": "execute_result"
    }
   ],
   "source": [
    "cnt"
   ]
  },
  {
   "cell_type": "code",
   "execution_count": 33,
   "metadata": {},
   "outputs": [
    {
     "data": {
      "text/plain": [
       "{'question': 'who got the first nobel prize in physics',\n",
       " 'gen_ctx': 'A: Alfred Nobel, chemist who first discovered the so-called X-ray effect in 1911. Alfred Nobel, chemist who first discovered the so-called X-ray effect in 1911. Albert Einstein, physicist and Nobel laureate who, in 1915, announced the theory of x-ray radiation in the press; on 26 August 1916 Nobel invited him to Chicago for a meeting with G. Bernard Shaw. Einstein died that year. Unsettling war occurred between Germany and Austria-Hungary, Germany occupied the city of Dresden,\\n',\n",
       " 'topk': [{'id': 0,\n",
       "   'ctx': {'id': '2123547',\n",
       "    'title': 'Geiger–Marsden experiment',\n",
       "    'text': \"Geiger–Marsden experiment The Geiger–Marsden experiment(s) (also called the Rutherford gold foil experiment) was a landmark series of experiments by which scientists discovered that every atom contains a nucleus where all of its positive charge and most of its mass are concentrated. They deduced this by measuring how an alpha particle beam is scattered when it strikes a thin metal foil. The experiments were performed between 1908 and 1913 by Hans Geiger and Ernest Marsden under the direction of Ernest Rutherford at the Physical Laboratories of the University of Manchester. The popular theory of atomic structure at the time of Rutherford's\"},\n",
       "   'question': 'who measured the magnitude of the positive charge on the nucleus',\n",
       "   'score': 72.44462585449219},\n",
       "  {'id': 1,\n",
       "   'ctx': {'id': '2052819',\n",
       "    'title': 'Lawrence Bragg',\n",
       "    'text': 'Lawrence Bragg Sir William Lawrence Bragg, (31 March 1890 – 1 July 1971) was an Australian-born British physicist and X-ray crystallographer, discoverer (1912) of Bragg\\'s law of X-ray diffraction, which is basic for the determination of crystal structure. He was joint winner (with his father, William Henry Bragg) of the Nobel Prize in Physics in 1915: \"\"For their services in the analysis of crystal structure by means of X-ray\"\", an important step in the development of X-ray crystallography. Bragg was knighted in 1941. As of 2018, he is the youngest ever Nobel laureate in physics, having received the award at'},\n",
       "   'question': 'youngest person to receive nobel prize in physics',\n",
       "   'score': 72.75534057617188},\n",
       "  {'id': 2,\n",
       "   'ctx': {'id': '317802',\n",
       "    'title': 'Photoelectric effect',\n",
       "    'text': 'known as the Planck constant. In 1887, Heinrich Hertz discovered that electrodes illuminated with ultraviolet light create electric sparks more easily. In 1900, while studying black-body radiation, the German physicist Max Planck suggested that the energy carried by electromagnetic waves could only be released in \"packets\" of energy. In 1905, Albert Einstein published a paper advancing the hypothesis that light energy is carried in discrete quantized packets to explain experimental data from the photoelectric effect. This model contributed to the development of quantum mechanics. In 1914, Millikan\\'s Experiment supported Einstein\\'s model of the photoelectric effect. Einstein was awarded the Nobel'},\n",
       "   'question': 'who developed an explanation for the photoelectric effect',\n",
       "   'score': 72.79161834716797},\n",
       "  {'id': 3,\n",
       "   'ctx': {'id': '628714',\n",
       "    'title': 'Nobel Prize in Physics',\n",
       "    'text': \"rendered by the discovery of the remarkable rays (or x-rays). This award is administered by the Nobel Foundation and widely regarded as the most prestigious award that a scientist can receive in physics. It is presented in Stockholm at an annual ceremony on 10 December, the anniversary of Nobel's death. Through 2018, a total of 209 individuals have been awarded the prize. Only three women (1.4% of laureates) have won the Nobel Prize in Physics: Marie Curie in 1903, Maria Goeppert Mayer in 1963, and Donna Strickland in 2018. Alfred Nobel, in his last will and testament, stated that his\"},\n",
       "   'question': 'who won the last nobel prize in physics',\n",
       "   'score': 72.96409606933594},\n",
       "  {'id': 4,\n",
       "   'ctx': {'id': '1868557',\n",
       "    'title': 'Gerty Cori',\n",
       "    'text': 'Gerty Cori Gerty Theresa Cori (née Radnitz; August 15, 1896 – October 26, 1957) was a Jewish Austrian-American biochemist who in 1947 was the third woman—and first American woman—to win a Nobel Prize in science, and the first woman to be awarded the Nobel Prize in Physiology or Medicine, for her role in the discovery of glycogen metabolism. Cori was born in Prague (then in the Austro-Hungarian Empire, now the Czech Republic). Gerty was not a nickname, but rather she was named after an Austrian warship. Growing up at a time when women were marginalized in science and allowed few'},\n",
       "   'question': 'who was the first american woman to win a nobel prize',\n",
       "   'score': 74.12759399414062},\n",
       "  {'id': 5,\n",
       "   'ctx': {'id': '14087661',\n",
       "    'title': 'Nobel Prize in Chemistry',\n",
       "    'text': 'on December 10, the anniversary of Nobel\\'s death. The first Nobel Prize in Chemistry was awarded in 1901 to Jacobus Henricus van \\'t Hoff, of the Netherlands, \"for his discovery of the laws of chemical dynamics and osmotic pressure in solutions.\" From 1901 to 2018, the award has been bestowed on a total of 180 individuals. Alfred Nobel stipulated in his last will and testament that his money be used to create a series of prizes for those who confer the \"greatest benefit on mankind\" in physics, chemistry, peace, physiology or medicine, and literature. Though Nobel wrote several wills during'},\n",
       "   'question': 'when is the nobel prize for chemistry awarded',\n",
       "   'score': 75.08153533935547},\n",
       "  {'id': 6,\n",
       "   'ctx': {'id': '11055017',\n",
       "    'title': 'Nobel family',\n",
       "    'text': 'Nobel, the inventor of dynamite who left the major part of his estate to the creation of the Nobel Prizes. The Nobel family originated from the village of Östra Nöbbelöv in Scania, hence the name. The first member was Petrus Olai Nobelius (1655–1707) who married Wendela Rudbeck (1668–1710), daughter of the famous Swedish scientist Olaus Rudbeck the Elder, also known as Olof Rudbeck. Members of the Nobel family are known not only for their interest in art but also for their inventive ability, which is sometimes referred to as a \"Rudbeckian\" trait, inherited from their ancestor Olaus Rudbeck, the elder.'},\n",
       "   'question': 'first mother and daughter to win nobel prize',\n",
       "   'score': 76.51228332519531},\n",
       "  {'id': 7,\n",
       "   'ctx': {'id': '628713',\n",
       "    'title': 'Nobel Prize in Physics',\n",
       "    'text': 'Nobel Prize in Physics The Nobel Prize in Physics () is a yearly award given by the Royal Swedish Academy of Sciences for those who have made the most outstanding contributions for mankind in the field of physics. It is one of the five Nobel Prizes established by the will of Alfred Nobel in 1895 and awarded since 1901; the others being the Nobel Prize in Chemistry, Nobel Prize in Literature, Nobel Peace Prize, and Nobel Prize in Physiology or Medicine. The first Nobel Prize in Physics was awarded to physicist Wilhelm Röntgen in recognition of the extraordinary services he'},\n",
       "   'question': 'who received the first nobel prize in physics',\n",
       "   'score': 76.76734161376953},\n",
       "  {'id': 8,\n",
       "   'ctx': {'id': '628713',\n",
       "    'title': 'Nobel Prize in Physics',\n",
       "    'text': 'Nobel Prize in Physics The Nobel Prize in Physics () is a yearly award given by the Royal Swedish Academy of Sciences for those who have made the most outstanding contributions for mankind in the field of physics. It is one of the five Nobel Prizes established by the will of Alfred Nobel in 1895 and awarded since 1901; the others being the Nobel Prize in Chemistry, Nobel Prize in Literature, Nobel Peace Prize, and Nobel Prize in Physiology or Medicine. The first Nobel Prize in Physics was awarded to physicist Wilhelm Röntgen in recognition of the extraordinary services he'},\n",
       "   'question': 'who won the first nobel prize in physics',\n",
       "   'score': 77.0179672241211},\n",
       "  {'id': 9,\n",
       "   'ctx': {'id': '278928',\n",
       "    'title': 'Marie Curie',\n",
       "    'text': 'named in her honor. Marie Curie Marie Skłodowska Curie (; ; ; born Maria Salomea Skłodowska; 7 November 18674 July 1934) was a Polish and naturalized-French physicist and chemist who conducted pioneering research on radioactivity. She was the first woman to win a Nobel Prize, the first person and only woman to win twice, the only person to win a Nobel Prize in two different sciences, and was part of the Curie family legacy of five Nobel Prizes. She was also the first woman to become a professor at the University of Paris, and in 1995 became the first woman'},\n",
       "   'question': 'only person to win two nobel prizes in two fields',\n",
       "   'score': 77.87638092041016}]}"
      ]
     },
     "execution_count": 33,
     "metadata": {},
     "output_type": "execute_result"
    }
   ],
   "source": [
    "orig_data[0]"
   ]
  },
  {
   "cell_type": "code",
   "execution_count": 46,
   "metadata": {},
   "outputs": [],
   "source": [
    "TOPK_CTX_PATH_orig='/gpfs/fs1/projects/gpu_adlr/datasets/dasu/prompting/predicted/TQA/analysi_result/topk_context_k10_357m_multisetdpr_queryctx_p0.9_all.json'\n",
    "TOPK_CTX_PATH_rm='/gpfs/fs1/projects/gpu_adlr/datasets/dasu/prompting/predicted/TQA/analysi_result/topk_context_k10_357m_multisetdpr_queryctx_p0.9_all_rmduplicatectx.json'\n",
    "test_orig='/gpfs/fs1/projects/gpu_adlr/datasets/dasu/open_domain_data/TQA/test.json'"
   ]
  },
  {
   "cell_type": "code",
   "execution_count": 48,
   "metadata": {},
   "outputs": [],
   "source": [
    "with open(TOPK_CTX_PATH_orig, 'r') as f:\n",
    "    orig_data =  json.load(f)\n"
   ]
  },
  {
   "cell_type": "code",
   "execution_count": 49,
   "metadata": {},
   "outputs": [],
   "source": [
    "with open(test_orig, 'r') as f:\n",
    "    test_data = json.load(f)"
   ]
  },
  {
   "cell_type": "code",
   "execution_count": 59,
   "metadata": {},
   "outputs": [],
   "source": [
    "cnt = 0\n",
    "for test, orig in zip(test_data, orig_data):\n",
    "    # golden = test['ctxs'][0]['text'] \n",
    "    golden_question = test['ctxs'][0]['text'] + ' ' + test['question']\n",
    "    for each in orig['topk']:\n",
    "        # if golden == each['ctx']['text']:\n",
    "        if golden_question == each['ctx']['text'] + ' ' + each['question']:\n",
    "            # print(\"=====\")\n",
    "            # print(golden)\n",
    "            # print(each)\n",
    "            cnt += 1\n",
    "            break"
   ]
  },
  {
   "cell_type": "code",
   "execution_count": 60,
   "metadata": {},
   "outputs": [
    {
     "data": {
      "text/plain": [
       "0"
      ]
     },
     "execution_count": 60,
     "metadata": {},
     "output_type": "execute_result"
    }
   ],
   "source": [
    "cnt"
   ]
  },
  {
   "cell_type": "code",
   "execution_count": 52,
   "metadata": {},
   "outputs": [
    {
     "data": {
      "text/plain": [
       "11313"
      ]
     },
     "execution_count": 52,
     "metadata": {},
     "output_type": "execute_result"
    }
   ],
   "source": [
    "len(test_data)"
   ]
  },
  {
   "cell_type": "code",
   "execution_count": 58,
   "metadata": {},
   "outputs": [
    {
     "data": {
      "text/plain": [
       "{'question': 'Who was the man behind The Chipmunks?',\n",
       " 'gen_ctx': 'A: Ross Bagdasarian Sr. David Seville Ross Bagdasarian Sr. Michael Redgrave Michael Redgrave (born November 1, 1920 – January 16, 1972) was an American actor, screenwriter, director, producer, and recording artist best known for his work as a producer and director of music. Prior to his acting career, Bagdasarian was a journalist, author, and producer and director of The New York Times film magazine. Bagdasarian studied at Iona College in Boca Raton, Florida with Elmo Selznick, James Cagney, and other film directors. After a brief career as an\\n',\n",
       " 'topk': [{'id': 0,\n",
       "   'ctx': {'id': '7356634',\n",
       "    'title': 'Leo Blair',\n",
       "    'text': 'Leo Blair Leo Charles Lynton Blair (born Charles Leonard Augustus Parsons; 4 August 192316 November 2012) was a British barrister and law lecturer at Durham University. He was the author of the book \"The Commonwealth Public Service\". He was the father of Tony Blair, the former Prime Minister of the United Kingdom, and of Sir William Blair, a High Court judge. Born Charles Leonard Augustus Parsons in Filey, Yorkshire, England, he was the illegitimate son of two middle class travelling entertainers. His father Charles Parsons (16 July 1887 – 19 January 1970) had the stage name Jimmy Lynton while his'},\n",
       "   'question': 'Where was ex-British Prime Minister Tony Blair born?',\n",
       "   'score': 71.00758361816406},\n",
       "  {'id': 1,\n",
       "   'ctx': {'id': '3994347',\n",
       "    'title': 'Eccles (character)',\n",
       "    'text': 'Eccles (character) \"Mad\" Dan Eccles () is the name of a comedy character, created and performed by Spike Milligan, from the 1950s United Kingdom radio comedy series \"The Goon Show\". In the episode \"The Macreekie Rising of \\'74\", Peter Sellers had to fill in for the role in Milligan\\'s absence. Very occasionally, he was referred to as \\'Mad Dan\\' Eccles. Eccles was one of the show\\'s secondary characters, but like his counterpart Bluebottle (portrayed by Sellers), Eccles became extremely popular and he is regarded as epitomising the show\\'s humour. Milligan visualised Eccles as a tall, lanky, amiable, well-meaning, but incredibly'},\n",
       "   'question': 'Which UK comedy series featured the characters Eccles, Bloodnok and Bluebottle?',\n",
       "   'score': 71.19309997558594},\n",
       "  {'id': 2,\n",
       "   'ctx': {'id': '10037085',\n",
       "    'title': 'Jackie Hamilton',\n",
       "    'text': 'Hamilton was unveiled at Eldonian Village Hall in 2004. On 10 April 2007 a profile of Jackie Hamilton entitled \"Standing up for Liverpool\" was broadcast on BBC Radio 4. Presented by Les Dennis and produced by Tony Staveacre, it explored the life and career of the much-loved joker, using rare tapes of the man himself in interview and performance and the reminiscences of Ricky Tomlinson, Lennie Chesworth and Mickey Finn. Jackie Hamilton Jackie Hamilton (born Johnny Kearns, 1937 – died 12 August 2003) was a stand-up comedian, nicknamed the \"Pele of Comedy\". His problems with alcohol, idiosyncratic delivery and strong'},\n",
       "   'question': 'Who lived at the TV address, 30 Kelsall Street Liverpool?',\n",
       "   'score': 71.33750915527344},\n",
       "  {'id': 3,\n",
       "   'ctx': {'id': '2637795',\n",
       "    'title': 'Moe Howard',\n",
       "    'text': \"Moe Howard Moses Harry Horwitz (June 19, 1897 – May 4, 1975), known professionally as Moe Howard, was an American actor and comedian best known as the leader of the Three Stooges, the farce comedy team who starred in motion pictures and television for four decades. That group originally started out as Ted Healy and His Stooges, an act that toured the vaudeville circuit. Moe's distinctive hairstyle came about when he was a boy and cut off his curls with a pair of scissors, producing a ragged shape approximating a bowl cut. Howard was born as Moses Harry Horwitz on\"},\n",
       "   'question': 'What were the first names of the Three Stooges',\n",
       "   'score': 71.49594116210938},\n",
       "  {'id': 4,\n",
       "   'ctx': {'id': '7114094',\n",
       "    'title': 'Captains Courageous (1937 film)',\n",
       "    'text': 'spoiled son of American business tycoon Frank Burton Cheyne (Melvyn Douglas). Harvey is shunned by his classmates at a private boarding school, and eventually suspended for bad behavior. His father therefore takes him on a business trip to Europe, travelling there by trans-Atlantic steamship. Mid passage, Harvey falls overboard in the Grand Banks of Newfoundland. He is rescued by a Portuguese-American fisherman, Manuel Fidello (Spencer Tracy), and taken aboard the fishing schooner \"\"We\\'re Here\"\", from Gloucester, Massachusetts. Harvey is shocked the schooner\\'s captain, Disko Troop (Lionel Barrymore), intends fishing in the Atlantic for three more months. He fails to persuade'},\n",
       "   'question': \"'Disko Troop' is the captain of the We're Here' fishing vessel in which Rudyard Kipling novel, which was made into a film starring Spencer Tracy?\",\n",
       "   'score': 71.75498962402344},\n",
       "  {'id': 5,\n",
       "   'ctx': {'id': '1365774',\n",
       "    'title': \"Chip 'n' Dale\",\n",
       "    'text': 'Chip \\'n\\' Dale Chip and Dale (also rendered as Chip \\'n\\' Dale or Chip an\\' Dale) are two chipmunk cartoon characters created at Walt Disney Productions in 1943. Their names are a pun based on the name of the famous 18th-century cabinet maker and furniture designer Thomas Chippendale. This was suggested by Bill \"Tex\" Henson, a story artist at the studio. Of the two, Chip is portrayed as being safe, focused, and having a mind for logical scheming. Dale, by contrast, is more laid-back, dim-witted, and impulsive, and has a very strong sense of humor. Originally the two had a'},\n",
       "   'question': 'What was the first name of the furniture maker Chippendale?',\n",
       "   'score': 73.01362609863281},\n",
       "  {'id': 6,\n",
       "   'ctx': {'id': '2258499',\n",
       "    'title': 'Alvin and the Chipmunks',\n",
       "    'text': 'Alvin and the Chipmunks Alvin and the Chipmunks, originally David Seville and the Chipmunks or simply the Chipmunks, is an American animated music group created by Ross Bagdasarian Sr. for a novelty record in 1958. The group consists of three singing animated anthropomorphic chipmunks: Alvin, the mischievous troublemaker, who quickly became the star of the group; Simon, the tall, bespectacled intellectual; and Theodore, the chubby, impressionable sweetheart. The trio is managed by their human adoptive father, David (Dave) Seville. In reality, \"David Seville\" was Bagdasarian\\'s stage name, and the Chipmunks themselves are named after the executives of their original record'},\n",
       "   'question': 'Who are Alvin, Simon, Theodore, and Dave?',\n",
       "   'score': 73.53592681884766},\n",
       "  {'id': 7,\n",
       "   'ctx': {'id': '1881996',\n",
       "    'title': 'Kenny Everett',\n",
       "    'text': 'Kenny Everett Maurice James Christopher Cole (25 December 1944 – 4 April 1995), known professionally as Kenny Everett, was a British comedian, radio DJ, and television entertainer. Everett is best known for his career as a radio DJ and for \"The Kenny Everett Video Show\". Everett was born in Seaforth, into a Catholic family as Maurice James Christopher Cole. Everett attended the local secondary modern school, St Bede\\'s Secondary Modern School in Crosby, now part of Sacred Heart Catholic College. He attended a junior seminary at Stillington, North Yorkshire near York with an Italian missionary order, the Verona Fathers, where'},\n",
       "   'question': 'Maurice Cole, under his stage name, was the creator of a number of anarchic irreverent radio and TV shows, the most well-known of which was called what?',\n",
       "   'score': 74.17501831054688},\n",
       "  {'id': 8,\n",
       "   'ctx': {'id': '1634774',\n",
       "    'title': 'Barnes Wallis',\n",
       "    'text': 'Barnes Wallis Sir Barnes Neville Wallis (26 September 1887 – 30 October 1979), was an English scientist, engineer and inventor. He is best known for inventing the bouncing bomb used by the Royal Air Force in Operation Chastise (the \"Dambusters\" raid) to attack the dams of the Ruhr Valley during World War II. The raid was the subject of the 1955 film \"The Dam Busters\", in which Wallis was played by Michael Redgrave. Among his other inventions were his version of the geodetic airframe and the earthquake bomb. Barnes Wallis was born in Ripley, Derbyshire to Charles William George Robinson'},\n",
       "   'question': 'Which actor played Barnes Wallis in the film The Dambusters?',\n",
       "   'score': 74.82447814941406},\n",
       "  {'id': 9,\n",
       "   'ctx': {'id': '3333449',\n",
       "    'title': 'Ross Bagdasarian Sr.',\n",
       "    'text': 'Ross Bagdasarian Sr. Rostom \"Ross\" Sipan Bagdasarian (January 27, 1919 – January 16, 1972), better known by the stage name David Seville, was an American singer-songwriter and actor, best known for creating the novelty musical group The Chipmunks (now better known as \"Alvin and the Chipmunks\"). Initially a stage and film actor, he rose to prominence in 1958 with the songs \"Witch Doctor\" and \"The Chipmunk Song (Christmas Don\\'t Be Late)\", which both became \"Billboard\" number-one singles. He produced and directed \"The Alvin Show\", which aired on CBS in 1961–62. Rostom Sipan Bagdasarian was born in Fresno, California to Armenian'},\n",
       "   'question': 'For a point each, name the Ross Bagdasarian created Chipmunks.',\n",
       "   'score': 75.263671875}]}"
      ]
     },
     "execution_count": 58,
     "metadata": {},
     "output_type": "execute_result"
    }
   ],
   "source": [
    "orig_data[0]"
   ]
  },
  {
   "cell_type": "code",
   "execution_count": null,
   "metadata": {},
   "outputs": [],
   "source": []
  }
 ],
 "metadata": {
  "interpreter": {
   "hash": "31f2aee4e71d21fbe5cf8b01ff0e069b9275f58929596ceb00d14d90e3e16cd6"
  },
  "kernelspec": {
   "display_name": "Python 3.8.5 64-bit",
   "language": "python",
   "name": "python3"
  },
  "language_info": {
   "codemirror_mode": {
    "name": "ipython",
    "version": 3
   },
   "file_extension": ".py",
   "mimetype": "text/x-python",
   "name": "python",
   "nbconvert_exporter": "python",
   "pygments_lexer": "ipython3",
   "version": "3.8.5"
  },
  "orig_nbformat": 4
 },
 "nbformat": 4,
 "nbformat_minor": 2
}
